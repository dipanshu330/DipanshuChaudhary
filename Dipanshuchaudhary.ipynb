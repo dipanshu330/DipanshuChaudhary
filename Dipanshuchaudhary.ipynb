{
 "cells": [
  {
   "cell_type": "code",
   "execution_count": 1,
   "id": "d612f94f",
   "metadata": {},
   "outputs": [],
   "source": [
    "import pandas as pd\n",
    "import matplotlib.pyplot as plt\n",
    "import seaborn as sns\n",
    "import numpy as np"
   ]
  },
  {
   "cell_type": "code",
   "execution_count": 2,
   "id": "58b82211",
   "metadata": {},
   "outputs": [],
   "source": [
    "df1 = pd.read_csv('Location1.csv')\n",
    "df2 = pd.read_csv('Location2.csv')\n",
    "df3 = pd.read_csv('Location3.csv')\n",
    "df4 = pd.read_csv('Location4.csv') "
   ]
  },
  {
   "cell_type": "code",
   "execution_count": 3,
   "id": "cfba8fc6",
   "metadata": {},
   "outputs": [
    {
     "name": "stdout",
     "output_type": "stream",
     "text": [
      "The columns in the data are as follows:\n",
      "\n",
      "Time - Hour of the day when readings occurred\n",
      "temperature_2m - Temperature in degrees Fahrenheit at 2 meters above the surface\n",
      "relativehumidity_2m - Relative humidity (as a percentage) at 2 meters above the surface\n",
      "dewpoint_2m - Dew point in degrees Fahrenheit at 2 meters above the surface\n",
      "windspeed_10m - Wind speed in meters per second at 10 meters above the surface\n",
      "windspeed_100m - Wind speed in meters per second at 100 meters above the surface\n",
      "winddirection_10m - Wind direction in degrees (0-360) at 10 meters above the surface (see notes)\n",
      "winddirection_100m - Wind direction in degrees (0-360) at 100 meters above the surface (see notes)\n",
      "windgusts_10m - Wind gusts in meters per second at 100 meters above the surface\n",
      "Power - Turbine output, normalized to be between 0 and 1 (i.e., a percentage of maximum potential output)\n",
      "\n",
      "Notes:\n",
      "\t1) Likely many of these variables will not be very relevant. They are included here but do not need to be included in the final models.\n",
      "\t2) Degrees are measured from 0 to 360. Since 0 and 360 represent the same spot on a circle, consider transforming these using sine and/or cosine. Also consider converting them to radians, instead of degrees.\n",
      "\t3) Each location can have a different model. There is no reason to build one model to work for all locations.\n",
      "\n",
      "\n"
     ]
    }
   ],
   "source": [
    "with open('readme.txt') as f:\n",
    "    readme=f.read()\n",
    "    print(readme)"
   ]
  },
  {
   "cell_type": "code",
   "execution_count": 4,
   "id": "fb88a09e",
   "metadata": {},
   "outputs": [],
   "source": [
    "updated_df = pd.concat([df1, df2, df3,df4], ignore_index=True)"
   ]
  },
  {
   "cell_type": "code",
   "execution_count": 5,
   "id": "dc3b285f",
   "metadata": {},
   "outputs": [
    {
     "data": {
      "text/plain": [
       "(175200, 10)"
      ]
     },
     "execution_count": 5,
     "metadata": {},
     "output_type": "execute_result"
    }
   ],
   "source": [
    "updated_df.shape"
   ]
  },
  {
   "cell_type": "code",
   "execution_count": 6,
   "id": "7ce399d3",
   "metadata": {},
   "outputs": [
    {
     "data": {
      "text/html": [
       "<div>\n",
       "<style scoped>\n",
       "    .dataframe tbody tr th:only-of-type {\n",
       "        vertical-align: middle;\n",
       "    }\n",
       "\n",
       "    .dataframe tbody tr th {\n",
       "        vertical-align: top;\n",
       "    }\n",
       "\n",
       "    .dataframe thead th {\n",
       "        text-align: right;\n",
       "    }\n",
       "</style>\n",
       "<table border=\"1\" class=\"dataframe\">\n",
       "  <thead>\n",
       "    <tr style=\"text-align: right;\">\n",
       "      <th></th>\n",
       "      <th>Time</th>\n",
       "      <th>temperature_2m</th>\n",
       "      <th>relativehumidity_2m</th>\n",
       "      <th>dewpoint_2m</th>\n",
       "      <th>windspeed_10m</th>\n",
       "      <th>windspeed_100m</th>\n",
       "      <th>winddirection_10m</th>\n",
       "      <th>winddirection_100m</th>\n",
       "      <th>windgusts_10m</th>\n",
       "      <th>Power</th>\n",
       "    </tr>\n",
       "  </thead>\n",
       "  <tbody>\n",
       "    <tr>\n",
       "      <th>0</th>\n",
       "      <td>2017-01-02 00:00:00</td>\n",
       "      <td>28.5</td>\n",
       "      <td>85</td>\n",
       "      <td>24.5</td>\n",
       "      <td>1.44</td>\n",
       "      <td>1.26</td>\n",
       "      <td>146</td>\n",
       "      <td>162</td>\n",
       "      <td>1.4</td>\n",
       "      <td>0.1635</td>\n",
       "    </tr>\n",
       "    <tr>\n",
       "      <th>1</th>\n",
       "      <td>2017-01-02 01:00:00</td>\n",
       "      <td>28.4</td>\n",
       "      <td>86</td>\n",
       "      <td>24.7</td>\n",
       "      <td>2.06</td>\n",
       "      <td>3.99</td>\n",
       "      <td>151</td>\n",
       "      <td>158</td>\n",
       "      <td>4.4</td>\n",
       "      <td>0.1424</td>\n",
       "    </tr>\n",
       "    <tr>\n",
       "      <th>2</th>\n",
       "      <td>2017-01-02 02:00:00</td>\n",
       "      <td>26.8</td>\n",
       "      <td>91</td>\n",
       "      <td>24.5</td>\n",
       "      <td>1.30</td>\n",
       "      <td>2.78</td>\n",
       "      <td>148</td>\n",
       "      <td>150</td>\n",
       "      <td>3.2</td>\n",
       "      <td>0.1214</td>\n",
       "    </tr>\n",
       "    <tr>\n",
       "      <th>3</th>\n",
       "      <td>2017-01-02 03:00:00</td>\n",
       "      <td>27.4</td>\n",
       "      <td>88</td>\n",
       "      <td>24.3</td>\n",
       "      <td>1.30</td>\n",
       "      <td>2.69</td>\n",
       "      <td>58</td>\n",
       "      <td>105</td>\n",
       "      <td>1.6</td>\n",
       "      <td>0.1003</td>\n",
       "    </tr>\n",
       "    <tr>\n",
       "      <th>4</th>\n",
       "      <td>2017-01-02 04:00:00</td>\n",
       "      <td>27.3</td>\n",
       "      <td>88</td>\n",
       "      <td>24.1</td>\n",
       "      <td>2.47</td>\n",
       "      <td>4.43</td>\n",
       "      <td>58</td>\n",
       "      <td>84</td>\n",
       "      <td>4.0</td>\n",
       "      <td>0.0793</td>\n",
       "    </tr>\n",
       "  </tbody>\n",
       "</table>\n",
       "</div>"
      ],
      "text/plain": [
       "                  Time  temperature_2m  relativehumidity_2m  dewpoint_2m  \\\n",
       "0  2017-01-02 00:00:00            28.5                   85         24.5   \n",
       "1  2017-01-02 01:00:00            28.4                   86         24.7   \n",
       "2  2017-01-02 02:00:00            26.8                   91         24.5   \n",
       "3  2017-01-02 03:00:00            27.4                   88         24.3   \n",
       "4  2017-01-02 04:00:00            27.3                   88         24.1   \n",
       "\n",
       "   windspeed_10m  windspeed_100m  winddirection_10m  winddirection_100m  \\\n",
       "0           1.44            1.26                146                 162   \n",
       "1           2.06            3.99                151                 158   \n",
       "2           1.30            2.78                148                 150   \n",
       "3           1.30            2.69                 58                 105   \n",
       "4           2.47            4.43                 58                  84   \n",
       "\n",
       "   windgusts_10m   Power  \n",
       "0            1.4  0.1635  \n",
       "1            4.4  0.1424  \n",
       "2            3.2  0.1214  \n",
       "3            1.6  0.1003  \n",
       "4            4.0  0.0793  "
      ]
     },
     "execution_count": 6,
     "metadata": {},
     "output_type": "execute_result"
    }
   ],
   "source": [
    "updated_df.head()"
   ]
  },
  {
   "cell_type": "code",
   "execution_count": 7,
   "id": "3ddfd46f",
   "metadata": {},
   "outputs": [
    {
     "data": {
      "text/html": [
       "<div>\n",
       "<style scoped>\n",
       "    .dataframe tbody tr th:only-of-type {\n",
       "        vertical-align: middle;\n",
       "    }\n",
       "\n",
       "    .dataframe tbody tr th {\n",
       "        vertical-align: top;\n",
       "    }\n",
       "\n",
       "    .dataframe thead th {\n",
       "        text-align: right;\n",
       "    }\n",
       "</style>\n",
       "<table border=\"1\" class=\"dataframe\">\n",
       "  <thead>\n",
       "    <tr style=\"text-align: right;\">\n",
       "      <th></th>\n",
       "      <th>Time</th>\n",
       "      <th>temperature_2m</th>\n",
       "      <th>relativehumidity_2m</th>\n",
       "      <th>dewpoint_2m</th>\n",
       "      <th>windspeed_10m</th>\n",
       "      <th>windspeed_100m</th>\n",
       "      <th>winddirection_10m</th>\n",
       "      <th>winddirection_100m</th>\n",
       "      <th>windgusts_10m</th>\n",
       "      <th>Power</th>\n",
       "    </tr>\n",
       "  </thead>\n",
       "  <tbody>\n",
       "    <tr>\n",
       "      <th>88255</th>\n",
       "      <td>2017-01-29 07:00:00</td>\n",
       "      <td>28.9</td>\n",
       "      <td>85</td>\n",
       "      <td>25.0</td>\n",
       "      <td>4.11</td>\n",
       "      <td>7.26</td>\n",
       "      <td>319</td>\n",
       "      <td>322</td>\n",
       "      <td>9.0</td>\n",
       "      <td>0.6311</td>\n",
       "    </tr>\n",
       "    <tr>\n",
       "      <th>123516</th>\n",
       "      <td>2021-02-06 12:00:00</td>\n",
       "      <td>3.9</td>\n",
       "      <td>68</td>\n",
       "      <td>-4.3</td>\n",
       "      <td>5.33</td>\n",
       "      <td>7.03</td>\n",
       "      <td>320</td>\n",
       "      <td>320</td>\n",
       "      <td>9.3</td>\n",
       "      <td>0.1760</td>\n",
       "    </tr>\n",
       "    <tr>\n",
       "      <th>157929</th>\n",
       "      <td>2020-01-12 09:00:00</td>\n",
       "      <td>15.2</td>\n",
       "      <td>69</td>\n",
       "      <td>6.8</td>\n",
       "      <td>1.02</td>\n",
       "      <td>1.21</td>\n",
       "      <td>11</td>\n",
       "      <td>24</td>\n",
       "      <td>1.9</td>\n",
       "      <td>0.0181</td>\n",
       "    </tr>\n",
       "    <tr>\n",
       "      <th>136466</th>\n",
       "      <td>2017-08-01 02:00:00</td>\n",
       "      <td>63.7</td>\n",
       "      <td>82</td>\n",
       "      <td>58.2</td>\n",
       "      <td>2.31</td>\n",
       "      <td>5.89</td>\n",
       "      <td>252</td>\n",
       "      <td>260</td>\n",
       "      <td>3.7</td>\n",
       "      <td>0.1982</td>\n",
       "    </tr>\n",
       "    <tr>\n",
       "      <th>63143</th>\n",
       "      <td>2019-03-18 23:00:00</td>\n",
       "      <td>26.5</td>\n",
       "      <td>84</td>\n",
       "      <td>22.3</td>\n",
       "      <td>5.32</td>\n",
       "      <td>8.17</td>\n",
       "      <td>265</td>\n",
       "      <td>278</td>\n",
       "      <td>8.5</td>\n",
       "      <td>0.2950</td>\n",
       "    </tr>\n",
       "  </tbody>\n",
       "</table>\n",
       "</div>"
      ],
      "text/plain": [
       "                       Time  temperature_2m  relativehumidity_2m  dewpoint_2m  \\\n",
       "88255   2017-01-29 07:00:00            28.9                   85         25.0   \n",
       "123516  2021-02-06 12:00:00             3.9                   68         -4.3   \n",
       "157929  2020-01-12 09:00:00            15.2                   69          6.8   \n",
       "136466  2017-08-01 02:00:00            63.7                   82         58.2   \n",
       "63143   2019-03-18 23:00:00            26.5                   84         22.3   \n",
       "\n",
       "        windspeed_10m  windspeed_100m  winddirection_10m  winddirection_100m  \\\n",
       "88255            4.11            7.26                319                 322   \n",
       "123516           5.33            7.03                320                 320   \n",
       "157929           1.02            1.21                 11                  24   \n",
       "136466           2.31            5.89                252                 260   \n",
       "63143            5.32            8.17                265                 278   \n",
       "\n",
       "        windgusts_10m   Power  \n",
       "88255             9.0  0.6311  \n",
       "123516            9.3  0.1760  \n",
       "157929            1.9  0.0181  \n",
       "136466            3.7  0.1982  \n",
       "63143             8.5  0.2950  "
      ]
     },
     "execution_count": 7,
     "metadata": {},
     "output_type": "execute_result"
    }
   ],
   "source": [
    "updated_df.sample(5)"
   ]
  },
  {
   "cell_type": "code",
   "execution_count": 8,
   "id": "930ad56d",
   "metadata": {},
   "outputs": [
    {
     "data": {
      "text/html": [
       "<div>\n",
       "<style scoped>\n",
       "    .dataframe tbody tr th:only-of-type {\n",
       "        vertical-align: middle;\n",
       "    }\n",
       "\n",
       "    .dataframe tbody tr th {\n",
       "        vertical-align: top;\n",
       "    }\n",
       "\n",
       "    .dataframe thead th {\n",
       "        text-align: right;\n",
       "    }\n",
       "</style>\n",
       "<table border=\"1\" class=\"dataframe\">\n",
       "  <thead>\n",
       "    <tr style=\"text-align: right;\">\n",
       "      <th></th>\n",
       "      <th>Time</th>\n",
       "      <th>temperature_2m</th>\n",
       "      <th>relativehumidity_2m</th>\n",
       "      <th>dewpoint_2m</th>\n",
       "      <th>windspeed_10m</th>\n",
       "      <th>windspeed_100m</th>\n",
       "      <th>winddirection_10m</th>\n",
       "      <th>winddirection_100m</th>\n",
       "      <th>windgusts_10m</th>\n",
       "      <th>Power</th>\n",
       "    </tr>\n",
       "  </thead>\n",
       "  <tbody>\n",
       "    <tr>\n",
       "      <th>175195</th>\n",
       "      <td>2021-12-31 19:00:00</td>\n",
       "      <td>25.5</td>\n",
       "      <td>94</td>\n",
       "      <td>24.0</td>\n",
       "      <td>4.01</td>\n",
       "      <td>6.66</td>\n",
       "      <td>4</td>\n",
       "      <td>8</td>\n",
       "      <td>8.2</td>\n",
       "      <td>0.3417</td>\n",
       "    </tr>\n",
       "    <tr>\n",
       "      <th>175196</th>\n",
       "      <td>2021-12-31 20:00:00</td>\n",
       "      <td>25.3</td>\n",
       "      <td>92</td>\n",
       "      <td>23.2</td>\n",
       "      <td>4.70</td>\n",
       "      <td>7.52</td>\n",
       "      <td>1</td>\n",
       "      <td>5</td>\n",
       "      <td>7.9</td>\n",
       "      <td>0.3342</td>\n",
       "    </tr>\n",
       "    <tr>\n",
       "      <th>175197</th>\n",
       "      <td>2021-12-31 21:00:00</td>\n",
       "      <td>24.9</td>\n",
       "      <td>90</td>\n",
       "      <td>22.5</td>\n",
       "      <td>4.61</td>\n",
       "      <td>7.57</td>\n",
       "      <td>4</td>\n",
       "      <td>8</td>\n",
       "      <td>7.9</td>\n",
       "      <td>0.3267</td>\n",
       "    </tr>\n",
       "    <tr>\n",
       "      <th>175198</th>\n",
       "      <td>2021-12-31 22:00:00</td>\n",
       "      <td>24.9</td>\n",
       "      <td>89</td>\n",
       "      <td>22.1</td>\n",
       "      <td>4.60</td>\n",
       "      <td>7.44</td>\n",
       "      <td>2</td>\n",
       "      <td>6</td>\n",
       "      <td>7.8</td>\n",
       "      <td>0.3192</td>\n",
       "    </tr>\n",
       "    <tr>\n",
       "      <th>175199</th>\n",
       "      <td>2021-12-31 23:00:00</td>\n",
       "      <td>24.9</td>\n",
       "      <td>88</td>\n",
       "      <td>21.8</td>\n",
       "      <td>4.65</td>\n",
       "      <td>7.77</td>\n",
       "      <td>9</td>\n",
       "      <td>12</td>\n",
       "      <td>7.8</td>\n",
       "      <td>0.3117</td>\n",
       "    </tr>\n",
       "  </tbody>\n",
       "</table>\n",
       "</div>"
      ],
      "text/plain": [
       "                       Time  temperature_2m  relativehumidity_2m  dewpoint_2m  \\\n",
       "175195  2021-12-31 19:00:00            25.5                   94         24.0   \n",
       "175196  2021-12-31 20:00:00            25.3                   92         23.2   \n",
       "175197  2021-12-31 21:00:00            24.9                   90         22.5   \n",
       "175198  2021-12-31 22:00:00            24.9                   89         22.1   \n",
       "175199  2021-12-31 23:00:00            24.9                   88         21.8   \n",
       "\n",
       "        windspeed_10m  windspeed_100m  winddirection_10m  winddirection_100m  \\\n",
       "175195           4.01            6.66                  4                   8   \n",
       "175196           4.70            7.52                  1                   5   \n",
       "175197           4.61            7.57                  4                   8   \n",
       "175198           4.60            7.44                  2                   6   \n",
       "175199           4.65            7.77                  9                  12   \n",
       "\n",
       "        windgusts_10m   Power  \n",
       "175195            8.2  0.3417  \n",
       "175196            7.9  0.3342  \n",
       "175197            7.9  0.3267  \n",
       "175198            7.8  0.3192  \n",
       "175199            7.8  0.3117  "
      ]
     },
     "execution_count": 8,
     "metadata": {},
     "output_type": "execute_result"
    }
   ],
   "source": [
    "updated_df.tail()"
   ]
  },
  {
   "cell_type": "code",
   "execution_count": 9,
   "id": "a67dda73",
   "metadata": {},
   "outputs": [
    {
     "name": "stdout",
     "output_type": "stream",
     "text": [
      "<class 'pandas.core.frame.DataFrame'>\n",
      "RangeIndex: 175200 entries, 0 to 175199\n",
      "Data columns (total 10 columns):\n",
      " #   Column               Non-Null Count   Dtype  \n",
      "---  ------               --------------   -----  \n",
      " 0   Time                 175200 non-null  object \n",
      " 1   temperature_2m       175200 non-null  float64\n",
      " 2   relativehumidity_2m  175200 non-null  int64  \n",
      " 3   dewpoint_2m          175200 non-null  float64\n",
      " 4   windspeed_10m        175200 non-null  float64\n",
      " 5   windspeed_100m       175200 non-null  float64\n",
      " 6   winddirection_10m    175200 non-null  int64  \n",
      " 7   winddirection_100m   175200 non-null  int64  \n",
      " 8   windgusts_10m        175200 non-null  float64\n",
      " 9   Power                175200 non-null  float64\n",
      "dtypes: float64(6), int64(3), object(1)\n",
      "memory usage: 13.4+ MB\n"
     ]
    }
   ],
   "source": [
    "updated_df.info()"
   ]
  },
  {
   "cell_type": "code",
   "execution_count": 10,
   "id": "b37b2c06",
   "metadata": {},
   "outputs": [
    {
     "data": {
      "text/html": [
       "<div>\n",
       "<style scoped>\n",
       "    .dataframe tbody tr th:only-of-type {\n",
       "        vertical-align: middle;\n",
       "    }\n",
       "\n",
       "    .dataframe tbody tr th {\n",
       "        vertical-align: top;\n",
       "    }\n",
       "\n",
       "    .dataframe thead th {\n",
       "        text-align: right;\n",
       "    }\n",
       "</style>\n",
       "<table border=\"1\" class=\"dataframe\">\n",
       "  <thead>\n",
       "    <tr style=\"text-align: right;\">\n",
       "      <th></th>\n",
       "      <th>temperature_2m</th>\n",
       "      <th>relativehumidity_2m</th>\n",
       "      <th>dewpoint_2m</th>\n",
       "      <th>windspeed_10m</th>\n",
       "      <th>windspeed_100m</th>\n",
       "      <th>winddirection_10m</th>\n",
       "      <th>winddirection_100m</th>\n",
       "      <th>windgusts_10m</th>\n",
       "      <th>Power</th>\n",
       "    </tr>\n",
       "  </thead>\n",
       "  <tbody>\n",
       "    <tr>\n",
       "      <th>count</th>\n",
       "      <td>43800.000000</td>\n",
       "      <td>43800.000000</td>\n",
       "      <td>43800.000000</td>\n",
       "      <td>43800.000000</td>\n",
       "      <td>43800.000000</td>\n",
       "      <td>43800.000000</td>\n",
       "      <td>43800.000000</td>\n",
       "      <td>43800.000000</td>\n",
       "      <td>43800.000000</td>\n",
       "    </tr>\n",
       "    <tr>\n",
       "      <th>mean</th>\n",
       "      <td>47.862911</td>\n",
       "      <td>72.288744</td>\n",
       "      <td>38.569308</td>\n",
       "      <td>3.591147</td>\n",
       "      <td>6.284431</td>\n",
       "      <td>203.637329</td>\n",
       "      <td>203.343676</td>\n",
       "      <td>7.771795</td>\n",
       "      <td>0.405385</td>\n",
       "    </tr>\n",
       "    <tr>\n",
       "      <th>std</th>\n",
       "      <td>19.453691</td>\n",
       "      <td>16.852287</td>\n",
       "      <td>18.772110</td>\n",
       "      <td>1.649318</td>\n",
       "      <td>2.685216</td>\n",
       "      <td>96.371262</td>\n",
       "      <td>97.959852</td>\n",
       "      <td>3.569147</td>\n",
       "      <td>0.288322</td>\n",
       "    </tr>\n",
       "    <tr>\n",
       "      <th>min</th>\n",
       "      <td>-14.400000</td>\n",
       "      <td>18.000000</td>\n",
       "      <td>-17.100000</td>\n",
       "      <td>0.000000</td>\n",
       "      <td>0.100000</td>\n",
       "      <td>1.000000</td>\n",
       "      <td>0.000000</td>\n",
       "      <td>0.500000</td>\n",
       "      <td>0.000000</td>\n",
       "    </tr>\n",
       "    <tr>\n",
       "      <th>25%</th>\n",
       "      <td>32.100000</td>\n",
       "      <td>60.000000</td>\n",
       "      <td>24.300000</td>\n",
       "      <td>2.410000</td>\n",
       "      <td>4.380000</td>\n",
       "      <td>132.000000</td>\n",
       "      <td>130.000000</td>\n",
       "      <td>5.000000</td>\n",
       "      <td>0.148900</td>\n",
       "    </tr>\n",
       "    <tr>\n",
       "      <th>50%</th>\n",
       "      <td>47.300000</td>\n",
       "      <td>74.000000</td>\n",
       "      <td>38.100000</td>\n",
       "      <td>3.300000</td>\n",
       "      <td>6.080000</td>\n",
       "      <td>225.000000</td>\n",
       "      <td>226.000000</td>\n",
       "      <td>7.200000</td>\n",
       "      <td>0.347650</td>\n",
       "    </tr>\n",
       "    <tr>\n",
       "      <th>75%</th>\n",
       "      <td>64.500000</td>\n",
       "      <td>86.000000</td>\n",
       "      <td>54.700000</td>\n",
       "      <td>4.590000</td>\n",
       "      <td>7.990000</td>\n",
       "      <td>277.000000</td>\n",
       "      <td>278.000000</td>\n",
       "      <td>10.000000</td>\n",
       "      <td>0.659600</td>\n",
       "    </tr>\n",
       "    <tr>\n",
       "      <th>max</th>\n",
       "      <td>94.100000</td>\n",
       "      <td>100.000000</td>\n",
       "      <td>76.300000</td>\n",
       "      <td>13.450000</td>\n",
       "      <td>20.650000</td>\n",
       "      <td>360.000000</td>\n",
       "      <td>360.000000</td>\n",
       "      <td>29.200000</td>\n",
       "      <td>0.991300</td>\n",
       "    </tr>\n",
       "  </tbody>\n",
       "</table>\n",
       "</div>"
      ],
      "text/plain": [
       "       temperature_2m  relativehumidity_2m   dewpoint_2m  windspeed_10m  \\\n",
       "count    43800.000000         43800.000000  43800.000000   43800.000000   \n",
       "mean        47.862911            72.288744     38.569308       3.591147   \n",
       "std         19.453691            16.852287     18.772110       1.649318   \n",
       "min        -14.400000            18.000000    -17.100000       0.000000   \n",
       "25%         32.100000            60.000000     24.300000       2.410000   \n",
       "50%         47.300000            74.000000     38.100000       3.300000   \n",
       "75%         64.500000            86.000000     54.700000       4.590000   \n",
       "max         94.100000           100.000000     76.300000      13.450000   \n",
       "\n",
       "       windspeed_100m  winddirection_10m  winddirection_100m  windgusts_10m  \\\n",
       "count    43800.000000       43800.000000        43800.000000   43800.000000   \n",
       "mean         6.284431         203.637329          203.343676       7.771795   \n",
       "std          2.685216          96.371262           97.959852       3.569147   \n",
       "min          0.100000           1.000000            0.000000       0.500000   \n",
       "25%          4.380000         132.000000          130.000000       5.000000   \n",
       "50%          6.080000         225.000000          226.000000       7.200000   \n",
       "75%          7.990000         277.000000          278.000000      10.000000   \n",
       "max         20.650000         360.000000          360.000000      29.200000   \n",
       "\n",
       "              Power  \n",
       "count  43800.000000  \n",
       "mean       0.405385  \n",
       "std        0.288322  \n",
       "min        0.000000  \n",
       "25%        0.148900  \n",
       "50%        0.347650  \n",
       "75%        0.659600  \n",
       "max        0.991300  "
      ]
     },
     "execution_count": 10,
     "metadata": {},
     "output_type": "execute_result"
    }
   ],
   "source": [
    "df1.describe()"
   ]
  },
  {
   "cell_type": "code",
   "execution_count": 11,
   "id": "91ee0362",
   "metadata": {},
   "outputs": [
    {
     "data": {
      "text/html": [
       "<div>\n",
       "<style scoped>\n",
       "    .dataframe tbody tr th:only-of-type {\n",
       "        vertical-align: middle;\n",
       "    }\n",
       "\n",
       "    .dataframe tbody tr th {\n",
       "        vertical-align: top;\n",
       "    }\n",
       "\n",
       "    .dataframe thead th {\n",
       "        text-align: right;\n",
       "    }\n",
       "</style>\n",
       "<table border=\"1\" class=\"dataframe\">\n",
       "  <thead>\n",
       "    <tr style=\"text-align: right;\">\n",
       "      <th></th>\n",
       "      <th>temperature_2m</th>\n",
       "      <th>relativehumidity_2m</th>\n",
       "      <th>dewpoint_2m</th>\n",
       "      <th>windspeed_10m</th>\n",
       "      <th>windspeed_100m</th>\n",
       "      <th>winddirection_10m</th>\n",
       "      <th>winddirection_100m</th>\n",
       "      <th>windgusts_10m</th>\n",
       "      <th>Power</th>\n",
       "    </tr>\n",
       "  </thead>\n",
       "  <tbody>\n",
       "    <tr>\n",
       "      <th>count</th>\n",
       "      <td>43800.000000</td>\n",
       "      <td>43800.000000</td>\n",
       "      <td>43800.000000</td>\n",
       "      <td>43800.000000</td>\n",
       "      <td>43800.000000</td>\n",
       "      <td>43800.000000</td>\n",
       "      <td>43800.000000</td>\n",
       "      <td>43800.000000</td>\n",
       "      <td>43800.000000</td>\n",
       "    </tr>\n",
       "    <tr>\n",
       "      <th>mean</th>\n",
       "      <td>42.725605</td>\n",
       "      <td>69.085091</td>\n",
       "      <td>32.215932</td>\n",
       "      <td>4.693236</td>\n",
       "      <td>7.572439</td>\n",
       "      <td>208.512626</td>\n",
       "      <td>206.555594</td>\n",
       "      <td>8.557470</td>\n",
       "      <td>0.249902</td>\n",
       "    </tr>\n",
       "    <tr>\n",
       "      <th>std</th>\n",
       "      <td>23.724354</td>\n",
       "      <td>17.317481</td>\n",
       "      <td>21.307625</td>\n",
       "      <td>2.238572</td>\n",
       "      <td>3.381060</td>\n",
       "      <td>103.088845</td>\n",
       "      <td>104.882857</td>\n",
       "      <td>3.710385</td>\n",
       "      <td>0.209088</td>\n",
       "    </tr>\n",
       "    <tr>\n",
       "      <th>min</th>\n",
       "      <td>-31.200000</td>\n",
       "      <td>16.000000</td>\n",
       "      <td>-36.200000</td>\n",
       "      <td>0.000000</td>\n",
       "      <td>0.100000</td>\n",
       "      <td>1.000000</td>\n",
       "      <td>0.000000</td>\n",
       "      <td>0.500000</td>\n",
       "      <td>0.000000</td>\n",
       "    </tr>\n",
       "    <tr>\n",
       "      <th>25%</th>\n",
       "      <td>26.100000</td>\n",
       "      <td>56.000000</td>\n",
       "      <td>18.600000</td>\n",
       "      <td>3.010000</td>\n",
       "      <td>5.110000</td>\n",
       "      <td>135.000000</td>\n",
       "      <td>129.000000</td>\n",
       "      <td>5.800000</td>\n",
       "      <td>0.076200</td>\n",
       "    </tr>\n",
       "    <tr>\n",
       "      <th>50%</th>\n",
       "      <td>42.700000</td>\n",
       "      <td>71.000000</td>\n",
       "      <td>32.000000</td>\n",
       "      <td>4.440000</td>\n",
       "      <td>7.400000</td>\n",
       "      <td>224.000000</td>\n",
       "      <td>218.000000</td>\n",
       "      <td>8.200000</td>\n",
       "      <td>0.194950</td>\n",
       "    </tr>\n",
       "    <tr>\n",
       "      <th>75%</th>\n",
       "      <td>63.000000</td>\n",
       "      <td>83.000000</td>\n",
       "      <td>50.600000</td>\n",
       "      <td>6.040000</td>\n",
       "      <td>9.740000</td>\n",
       "      <td>300.000000</td>\n",
       "      <td>302.000000</td>\n",
       "      <td>10.800000</td>\n",
       "      <td>0.381800</td>\n",
       "    </tr>\n",
       "    <tr>\n",
       "      <th>max</th>\n",
       "      <td>95.400000</td>\n",
       "      <td>100.000000</td>\n",
       "      <td>76.600000</td>\n",
       "      <td>18.270000</td>\n",
       "      <td>24.590000</td>\n",
       "      <td>360.000000</td>\n",
       "      <td>360.000000</td>\n",
       "      <td>29.000000</td>\n",
       "      <td>0.985900</td>\n",
       "    </tr>\n",
       "  </tbody>\n",
       "</table>\n",
       "</div>"
      ],
      "text/plain": [
       "       temperature_2m  relativehumidity_2m   dewpoint_2m  windspeed_10m  \\\n",
       "count    43800.000000         43800.000000  43800.000000   43800.000000   \n",
       "mean        42.725605            69.085091     32.215932       4.693236   \n",
       "std         23.724354            17.317481     21.307625       2.238572   \n",
       "min        -31.200000            16.000000    -36.200000       0.000000   \n",
       "25%         26.100000            56.000000     18.600000       3.010000   \n",
       "50%         42.700000            71.000000     32.000000       4.440000   \n",
       "75%         63.000000            83.000000     50.600000       6.040000   \n",
       "max         95.400000           100.000000     76.600000      18.270000   \n",
       "\n",
       "       windspeed_100m  winddirection_10m  winddirection_100m  windgusts_10m  \\\n",
       "count    43800.000000       43800.000000        43800.000000   43800.000000   \n",
       "mean         7.572439         208.512626          206.555594       8.557470   \n",
       "std          3.381060         103.088845          104.882857       3.710385   \n",
       "min          0.100000           1.000000            0.000000       0.500000   \n",
       "25%          5.110000         135.000000          129.000000       5.800000   \n",
       "50%          7.400000         224.000000          218.000000       8.200000   \n",
       "75%          9.740000         300.000000          302.000000      10.800000   \n",
       "max         24.590000         360.000000          360.000000      29.000000   \n",
       "\n",
       "              Power  \n",
       "count  43800.000000  \n",
       "mean       0.249902  \n",
       "std        0.209088  \n",
       "min        0.000000  \n",
       "25%        0.076200  \n",
       "50%        0.194950  \n",
       "75%        0.381800  \n",
       "max        0.985900  "
      ]
     },
     "execution_count": 11,
     "metadata": {},
     "output_type": "execute_result"
    }
   ],
   "source": [
    "df2.describe()"
   ]
  },
  {
   "cell_type": "code",
   "execution_count": 12,
   "id": "35571eba",
   "metadata": {},
   "outputs": [
    {
     "data": {
      "text/html": [
       "<div>\n",
       "<style scoped>\n",
       "    .dataframe tbody tr th:only-of-type {\n",
       "        vertical-align: middle;\n",
       "    }\n",
       "\n",
       "    .dataframe tbody tr th {\n",
       "        vertical-align: top;\n",
       "    }\n",
       "\n",
       "    .dataframe thead th {\n",
       "        text-align: right;\n",
       "    }\n",
       "</style>\n",
       "<table border=\"1\" class=\"dataframe\">\n",
       "  <thead>\n",
       "    <tr style=\"text-align: right;\">\n",
       "      <th></th>\n",
       "      <th>temperature_2m</th>\n",
       "      <th>relativehumidity_2m</th>\n",
       "      <th>dewpoint_2m</th>\n",
       "      <th>windspeed_10m</th>\n",
       "      <th>windspeed_100m</th>\n",
       "      <th>winddirection_10m</th>\n",
       "      <th>winddirection_100m</th>\n",
       "      <th>windgusts_10m</th>\n",
       "      <th>Power</th>\n",
       "    </tr>\n",
       "  </thead>\n",
       "  <tbody>\n",
       "    <tr>\n",
       "      <th>count</th>\n",
       "      <td>43800.000000</td>\n",
       "      <td>43800.000000</td>\n",
       "      <td>43800.000000</td>\n",
       "      <td>43800.000000</td>\n",
       "      <td>43800.000000</td>\n",
       "      <td>43800.000000</td>\n",
       "      <td>43800.000000</td>\n",
       "      <td>43800.000000</td>\n",
       "      <td>43800.000000</td>\n",
       "    </tr>\n",
       "    <tr>\n",
       "      <th>mean</th>\n",
       "      <td>46.809829</td>\n",
       "      <td>70.956621</td>\n",
       "      <td>37.054274</td>\n",
       "      <td>4.012071</td>\n",
       "      <td>6.612864</td>\n",
       "      <td>199.400731</td>\n",
       "      <td>201.359954</td>\n",
       "      <td>7.688954</td>\n",
       "      <td>0.250926</td>\n",
       "    </tr>\n",
       "    <tr>\n",
       "      <th>std</th>\n",
       "      <td>21.561586</td>\n",
       "      <td>16.969744</td>\n",
       "      <td>20.995804</td>\n",
       "      <td>1.887665</td>\n",
       "      <td>2.869876</td>\n",
       "      <td>96.575068</td>\n",
       "      <td>97.207775</td>\n",
       "      <td>3.458954</td>\n",
       "      <td>0.228814</td>\n",
       "    </tr>\n",
       "    <tr>\n",
       "      <th>min</th>\n",
       "      <td>-28.800000</td>\n",
       "      <td>9.000000</td>\n",
       "      <td>-35.600000</td>\n",
       "      <td>0.000000</td>\n",
       "      <td>0.000000</td>\n",
       "      <td>1.000000</td>\n",
       "      <td>1.000000</td>\n",
       "      <td>0.500000</td>\n",
       "      <td>0.000000</td>\n",
       "    </tr>\n",
       "    <tr>\n",
       "      <th>25%</th>\n",
       "      <td>30.300000</td>\n",
       "      <td>59.000000</td>\n",
       "      <td>21.900000</td>\n",
       "      <td>2.550000</td>\n",
       "      <td>4.580000</td>\n",
       "      <td>129.000000</td>\n",
       "      <td>130.000000</td>\n",
       "      <td>5.000000</td>\n",
       "      <td>0.066700</td>\n",
       "    </tr>\n",
       "    <tr>\n",
       "      <th>50%</th>\n",
       "      <td>47.100000</td>\n",
       "      <td>73.000000</td>\n",
       "      <td>37.100000</td>\n",
       "      <td>3.750000</td>\n",
       "      <td>6.500000</td>\n",
       "      <td>207.000000</td>\n",
       "      <td>211.000000</td>\n",
       "      <td>7.300000</td>\n",
       "      <td>0.184700</td>\n",
       "    </tr>\n",
       "    <tr>\n",
       "      <th>75%</th>\n",
       "      <td>65.400000</td>\n",
       "      <td>85.000000</td>\n",
       "      <td>55.300000</td>\n",
       "      <td>5.210000</td>\n",
       "      <td>8.440000</td>\n",
       "      <td>284.000000</td>\n",
       "      <td>286.000000</td>\n",
       "      <td>9.900000</td>\n",
       "      <td>0.371825</td>\n",
       "    </tr>\n",
       "    <tr>\n",
       "      <th>max</th>\n",
       "      <td>93.800000</td>\n",
       "      <td>100.000000</td>\n",
       "      <td>77.900000</td>\n",
       "      <td>14.260000</td>\n",
       "      <td>21.750000</td>\n",
       "      <td>360.000000</td>\n",
       "      <td>360.000000</td>\n",
       "      <td>26.400000</td>\n",
       "      <td>0.988800</td>\n",
       "    </tr>\n",
       "  </tbody>\n",
       "</table>\n",
       "</div>"
      ],
      "text/plain": [
       "       temperature_2m  relativehumidity_2m   dewpoint_2m  windspeed_10m  \\\n",
       "count    43800.000000         43800.000000  43800.000000   43800.000000   \n",
       "mean        46.809829            70.956621     37.054274       4.012071   \n",
       "std         21.561586            16.969744     20.995804       1.887665   \n",
       "min        -28.800000             9.000000    -35.600000       0.000000   \n",
       "25%         30.300000            59.000000     21.900000       2.550000   \n",
       "50%         47.100000            73.000000     37.100000       3.750000   \n",
       "75%         65.400000            85.000000     55.300000       5.210000   \n",
       "max         93.800000           100.000000     77.900000      14.260000   \n",
       "\n",
       "       windspeed_100m  winddirection_10m  winddirection_100m  windgusts_10m  \\\n",
       "count    43800.000000       43800.000000        43800.000000   43800.000000   \n",
       "mean         6.612864         199.400731          201.359954       7.688954   \n",
       "std          2.869876          96.575068           97.207775       3.458954   \n",
       "min          0.000000           1.000000            1.000000       0.500000   \n",
       "25%          4.580000         129.000000          130.000000       5.000000   \n",
       "50%          6.500000         207.000000          211.000000       7.300000   \n",
       "75%          8.440000         284.000000          286.000000       9.900000   \n",
       "max         21.750000         360.000000          360.000000      26.400000   \n",
       "\n",
       "              Power  \n",
       "count  43800.000000  \n",
       "mean       0.250926  \n",
       "std        0.228814  \n",
       "min        0.000000  \n",
       "25%        0.066700  \n",
       "50%        0.184700  \n",
       "75%        0.371825  \n",
       "max        0.988800  "
      ]
     },
     "execution_count": 12,
     "metadata": {},
     "output_type": "execute_result"
    }
   ],
   "source": [
    "df4.describe()"
   ]
  },
  {
   "cell_type": "code",
   "execution_count": 13,
   "id": "e01ed38d",
   "metadata": {},
   "outputs": [
    {
     "data": {
      "text/html": [
       "<div>\n",
       "<style scoped>\n",
       "    .dataframe tbody tr th:only-of-type {\n",
       "        vertical-align: middle;\n",
       "    }\n",
       "\n",
       "    .dataframe tbody tr th {\n",
       "        vertical-align: top;\n",
       "    }\n",
       "\n",
       "    .dataframe thead th {\n",
       "        text-align: right;\n",
       "    }\n",
       "</style>\n",
       "<table border=\"1\" class=\"dataframe\">\n",
       "  <thead>\n",
       "    <tr style=\"text-align: right;\">\n",
       "      <th></th>\n",
       "      <th>temperature_2m</th>\n",
       "      <th>relativehumidity_2m</th>\n",
       "      <th>dewpoint_2m</th>\n",
       "      <th>windspeed_10m</th>\n",
       "      <th>windspeed_100m</th>\n",
       "      <th>winddirection_10m</th>\n",
       "      <th>winddirection_100m</th>\n",
       "      <th>windgusts_10m</th>\n",
       "      <th>Power</th>\n",
       "    </tr>\n",
       "  </thead>\n",
       "  <tbody>\n",
       "    <tr>\n",
       "      <th>count</th>\n",
       "      <td>175200.000000</td>\n",
       "      <td>175200.000000</td>\n",
       "      <td>175200.000000</td>\n",
       "      <td>175200.000000</td>\n",
       "      <td>175200.000000</td>\n",
       "      <td>175200.000000</td>\n",
       "      <td>175200.000000</td>\n",
       "      <td>175200.000000</td>\n",
       "      <td>175200.000000</td>\n",
       "    </tr>\n",
       "    <tr>\n",
       "      <th>mean</th>\n",
       "      <td>46.655994</td>\n",
       "      <td>70.155291</td>\n",
       "      <td>36.516241</td>\n",
       "      <td>4.157639</td>\n",
       "      <td>6.879334</td>\n",
       "      <td>201.589446</td>\n",
       "      <td>201.539070</td>\n",
       "      <td>8.038205</td>\n",
       "      <td>0.303429</td>\n",
       "    </tr>\n",
       "    <tr>\n",
       "      <th>std</th>\n",
       "      <td>22.012738</td>\n",
       "      <td>17.326678</td>\n",
       "      <td>20.933153</td>\n",
       "      <td>2.012682</td>\n",
       "      <td>3.043964</td>\n",
       "      <td>99.639040</td>\n",
       "      <td>100.683777</td>\n",
       "      <td>3.617488</td>\n",
       "      <td>0.257325</td>\n",
       "    </tr>\n",
       "    <tr>\n",
       "      <th>min</th>\n",
       "      <td>-31.200000</td>\n",
       "      <td>9.000000</td>\n",
       "      <td>-36.200000</td>\n",
       "      <td>0.000000</td>\n",
       "      <td>0.000000</td>\n",
       "      <td>1.000000</td>\n",
       "      <td>0.000000</td>\n",
       "      <td>0.500000</td>\n",
       "      <td>0.000000</td>\n",
       "    </tr>\n",
       "    <tr>\n",
       "      <th>25%</th>\n",
       "      <td>30.200000</td>\n",
       "      <td>57.000000</td>\n",
       "      <td>21.900000</td>\n",
       "      <td>2.630000</td>\n",
       "      <td>4.700000</td>\n",
       "      <td>130.000000</td>\n",
       "      <td>129.000000</td>\n",
       "      <td>5.300000</td>\n",
       "      <td>0.087700</td>\n",
       "    </tr>\n",
       "    <tr>\n",
       "      <th>50%</th>\n",
       "      <td>46.900000</td>\n",
       "      <td>72.000000</td>\n",
       "      <td>36.200000</td>\n",
       "      <td>3.850000</td>\n",
       "      <td>6.680000</td>\n",
       "      <td>211.000000</td>\n",
       "      <td>211.000000</td>\n",
       "      <td>7.600000</td>\n",
       "      <td>0.233100</td>\n",
       "    </tr>\n",
       "    <tr>\n",
       "      <th>75%</th>\n",
       "      <td>65.300000</td>\n",
       "      <td>84.000000</td>\n",
       "      <td>54.600000</td>\n",
       "      <td>5.380000</td>\n",
       "      <td>8.800000</td>\n",
       "      <td>288.000000</td>\n",
       "      <td>290.000000</td>\n",
       "      <td>10.300000</td>\n",
       "      <td>0.474200</td>\n",
       "    </tr>\n",
       "    <tr>\n",
       "      <th>max</th>\n",
       "      <td>101.700000</td>\n",
       "      <td>100.000000</td>\n",
       "      <td>78.700000</td>\n",
       "      <td>18.530000</td>\n",
       "      <td>24.590000</td>\n",
       "      <td>360.000000</td>\n",
       "      <td>360.000000</td>\n",
       "      <td>29.200000</td>\n",
       "      <td>0.999400</td>\n",
       "    </tr>\n",
       "  </tbody>\n",
       "</table>\n",
       "</div>"
      ],
      "text/plain": [
       "       temperature_2m  relativehumidity_2m    dewpoint_2m  windspeed_10m  \\\n",
       "count   175200.000000        175200.000000  175200.000000  175200.000000   \n",
       "mean        46.655994            70.155291      36.516241       4.157639   \n",
       "std         22.012738            17.326678      20.933153       2.012682   \n",
       "min        -31.200000             9.000000     -36.200000       0.000000   \n",
       "25%         30.200000            57.000000      21.900000       2.630000   \n",
       "50%         46.900000            72.000000      36.200000       3.850000   \n",
       "75%         65.300000            84.000000      54.600000       5.380000   \n",
       "max        101.700000           100.000000      78.700000      18.530000   \n",
       "\n",
       "       windspeed_100m  winddirection_10m  winddirection_100m  windgusts_10m  \\\n",
       "count   175200.000000      175200.000000       175200.000000  175200.000000   \n",
       "mean         6.879334         201.589446          201.539070       8.038205   \n",
       "std          3.043964          99.639040          100.683777       3.617488   \n",
       "min          0.000000           1.000000            0.000000       0.500000   \n",
       "25%          4.700000         130.000000          129.000000       5.300000   \n",
       "50%          6.680000         211.000000          211.000000       7.600000   \n",
       "75%          8.800000         288.000000          290.000000      10.300000   \n",
       "max         24.590000         360.000000          360.000000      29.200000   \n",
       "\n",
       "               Power  \n",
       "count  175200.000000  \n",
       "mean        0.303429  \n",
       "std         0.257325  \n",
       "min         0.000000  \n",
       "25%         0.087700  \n",
       "50%         0.233100  \n",
       "75%         0.474200  \n",
       "max         0.999400  "
      ]
     },
     "execution_count": 13,
     "metadata": {},
     "output_type": "execute_result"
    }
   ],
   "source": [
    "updated_df.describe()"
   ]
  },
  {
   "cell_type": "code",
   "execution_count": 14,
   "id": "5c0326a1",
   "metadata": {},
   "outputs": [
    {
     "data": {
      "text/plain": [
       "Time                   0\n",
       "temperature_2m         0\n",
       "relativehumidity_2m    0\n",
       "dewpoint_2m            0\n",
       "windspeed_10m          0\n",
       "windspeed_100m         0\n",
       "winddirection_10m      0\n",
       "winddirection_100m     0\n",
       "windgusts_10m          0\n",
       "Power                  0\n",
       "dtype: int64"
      ]
     },
     "execution_count": 14,
     "metadata": {},
     "output_type": "execute_result"
    }
   ],
   "source": [
    "updated_df.isnull().sum()"
   ]
  },
  {
   "cell_type": "code",
   "execution_count": 15,
   "id": "e6e7c197",
   "metadata": {},
   "outputs": [
    {
     "data": {
      "text/plain": [
       "np.int64(0)"
      ]
     },
     "execution_count": 15,
     "metadata": {},
     "output_type": "execute_result"
    }
   ],
   "source": [
    "updated_df.duplicated().sum()"
   ]
  },
  {
   "cell_type": "code",
   "execution_count": 16,
   "id": "403f7ec3",
   "metadata": {},
   "outputs": [
    {
     "data": {
      "text/plain": [
       "count    175200.000000\n",
       "mean         46.655994\n",
       "std          22.012738\n",
       "min         -31.200000\n",
       "25%          30.200000\n",
       "50%          46.900000\n",
       "75%          65.300000\n",
       "max         101.700000\n",
       "Name: temperature_2m, dtype: float64"
      ]
     },
     "execution_count": 16,
     "metadata": {},
     "output_type": "execute_result"
    }
   ],
   "source": [
    "updated_df['temperature_2m'].describe()"
   ]
  },
  {
   "cell_type": "code",
   "execution_count": 17,
   "id": "9e0b839c",
   "metadata": {},
   "outputs": [
    {
     "name": "stdout",
     "output_type": "stream",
     "text": [
      "Numeric columns: Index(['temperature_2m', 'relativehumidity_2m', 'dewpoint_2m', 'windspeed_10m',\n",
      "       'windspeed_100m', 'winddirection_10m', 'winddirection_100m',\n",
      "       'windgusts_10m', 'Power'],\n",
      "      dtype='object')\n"
     ]
    }
   ],
   "source": [
    "numeric_cols = updated_df.select_dtypes(include=[np.number]).columns\n",
    "print(\"Numeric columns:\", numeric_cols)\n"
   ]
  },
  {
   "cell_type": "code",
   "execution_count": 18,
   "id": "35e6e6fb",
   "metadata": {},
   "outputs": [
    {
     "data": {
      "text/plain": [
       "<Axes: ylabel='temperature_2m'>"
      ]
     },
     "execution_count": 18,
     "metadata": {},
     "output_type": "execute_result"
    },
    {
     "data": {
      "image/png": "[encoded data removed]",
      "text/plain": [
       "<Figure size 640x480 with 1 Axes>"
      ]
     },
     "metadata": {},
     "output_type": "display_data"
    }
   ],
   "source": [
    "sns.boxplot(updated_df['temperature_2m'])"
   ]
  },
  {
   "cell_type": "code",
   "execution_count": 19,
   "id": "7205dfaf",
   "metadata": {},
   "outputs": [
    {
     "data": {
      "text/plain": [
       "count    175200.000000\n",
       "mean         70.155291\n",
       "std          17.326678\n",
       "min           9.000000\n",
       "25%          57.000000\n",
       "50%          72.000000\n",
       "75%          84.000000\n",
       "max         100.000000\n",
       "Name: relativehumidity_2m, dtype: float64"
      ]
     },
     "execution_count": 19,
     "metadata": {},
     "output_type": "execute_result"
    }
   ],
   "source": [
    "updated_df['relativehumidity_2m'].describe()"
   ]
  },
  {
   "cell_type": "code",
   "execution_count": 20,
   "id": "b16ea4d8",
   "metadata": {},
   "outputs": [
    {
     "data": {
      "text/plain": [
       "<Axes: ylabel='relativehumidity_2m'>"
      ]
     },
     "execution_count": 20,
     "metadata": {},
     "output_type": "execute_result"
    },
    {
     "data": {
      "image/png": "[encoded data removed]",
      "text/plain": [
       "<Figure size 640x480 with 1 Axes>"
      ]
     },
     "metadata": {},
     "output_type": "display_data"
    }
   ],
   "source": [
    "sns.boxplot(updated_df['relativehumidity_2m'])"
   ]
  },
  {
   "cell_type": "code",
   "execution_count": 21,
   "id": "c5ee676e",
   "metadata": {},
   "outputs": [
    {
     "data": {
      "text/plain": [
       "count    175200.000000\n",
       "mean         36.516241\n",
       "std          20.933153\n",
       "min         -36.200000\n",
       "25%          21.900000\n",
       "50%          36.200000\n",
       "75%          54.600000\n",
       "max          78.700000\n",
       "Name: dewpoint_2m, dtype: float64"
      ]
     },
     "execution_count": 21,
     "metadata": {},
     "output_type": "execute_result"
    }
   ],
   "source": [
    "updated_df['dewpoint_2m'].describe()"
   ]
  },
  {
   "cell_type": "code",
   "execution_count": 22,
   "id": "fee6ed6e",
   "metadata": {},
   "outputs": [
    {
     "data": {
      "text/plain": [
       "<Axes: ylabel='dewpoint_2m'>"
      ]
     },
     "execution_count": 22,
     "metadata": {},
     "output_type": "execute_result"
    },
    {
     "data": {
      "image/png": "[encoded data removed]",
      "text/plain": [
       "<Figure size 640x480 with 1 Axes>"
      ]
     },
     "metadata": {},
     "output_type": "display_data"
    }
   ],
   "source": [
    "sns.boxplot(updated_df['dewpoint_2m'])"
   ]
  },
  {
   "cell_type": "code",
   "execution_count": 23,
   "id": "eac06018",
   "metadata": {},
   "outputs": [
    {
     "data": {
      "text/plain": [
       "count    175200.000000\n",
       "mean          4.157639\n",
       "std           2.012682\n",
       "min           0.000000\n",
       "25%           2.630000\n",
       "50%           3.850000\n",
       "75%           5.380000\n",
       "max          18.530000\n",
       "Name: windspeed_10m, dtype: float64"
      ]
     },
     "execution_count": 23,
     "metadata": {},
     "output_type": "execute_result"
    }
   ],
   "source": [
    "updated_df['windspeed_10m'].describe()"
   ]
  },
  {
   "cell_type": "code",
   "execution_count": 24,
   "id": "d45fb32a",
   "metadata": {},
   "outputs": [
    {
     "data": {
      "text/plain": [
       "<Axes: ylabel='windspeed_10m'>"
      ]
     },
     "execution_count": 24,
     "metadata": {},
     "output_type": "execute_result"
    },
    {
     "data": {
      "image/png": "[encoded data removed]",
      "text/plain": [
       "<Figure size 640x480 with 1 Axes>"
      ]
     },
     "metadata": {},
     "output_type": "display_data"
    }
   ],
   "source": [
    "sns.boxplot(updated_df['windspeed_10m'])"
   ]
  },
  {
   "cell_type": "code",
   "execution_count": 25,
   "id": "391c9064",
   "metadata": {},
   "outputs": [
    {
     "data": {
      "text/plain": [
       "count    175200.000000\n",
       "mean          6.879334\n",
       "std           3.043964\n",
       "min           0.000000\n",
       "25%           4.700000\n",
       "50%           6.680000\n",
       "75%           8.800000\n",
       "max          24.590000\n",
       "Name: windspeed_100m, dtype: float64"
      ]
     },
     "execution_count": 25,
     "metadata": {},
     "output_type": "execute_result"
    }
   ],
   "source": [
    "updated_df['windspeed_100m'].describe()"
   ]
  },
  {
   "cell_type": "code",
   "execution_count": 26,
   "id": "4deba8e2",
   "metadata": {},
   "outputs": [
    {
     "data": {
      "text/plain": [
       "<Axes: ylabel='windspeed_100m'>"
      ]
     },
     "execution_count": 26,
     "metadata": {},
     "output_type": "execute_result"
    },
    {
     "data": {
      "image/png": "[encoded data removed]",
      "text/plain": [
       "<Figure size 640x480 with 1 Axes>"
      ]
     },
     "metadata": {},
     "output_type": "display_data"
    }
   ],
   "source": [
    "sns.boxplot(updated_df['windspeed_100m'])"
   ]
  },
  {
   "cell_type": "code",
   "execution_count": 27,
   "id": "55277b2a",
   "metadata": {},
   "outputs": [
    {
     "data": {
      "text/plain": [
       "count    175200.000000\n",
       "mean        201.589446\n",
       "std          99.639040\n",
       "min           1.000000\n",
       "25%         130.000000\n",
       "50%         211.000000\n",
       "75%         288.000000\n",
       "max         360.000000\n",
       "Name: winddirection_10m, dtype: float64"
      ]
     },
     "execution_count": 27,
     "metadata": {},
     "output_type": "execute_result"
    }
   ],
   "source": [
    "updated_df['winddirection_10m'].describe()"
   ]
  },
  {
   "cell_type": "code",
   "execution_count": 28,
   "id": "e4252ab2",
   "metadata": {},
   "outputs": [
    {
     "data": {
      "text/plain": [
       "<Axes: ylabel='winddirection_10m'>"
      ]
     },
     "execution_count": 28,
     "metadata": {},
     "output_type": "execute_result"
    },
    {
     "data": {
      "image/png": "[encoded data removed]",
      "text/plain": [
       "<Figure size 640x480 with 1 Axes>"
      ]
     },
     "metadata": {},
     "output_type": "display_data"
    }
   ],
   "source": [
    "sns.boxplot(updated_df['winddirection_10m'])"
   ]
  },
  {
   "cell_type": "code",
   "execution_count": 29,
   "id": "9585aa0a",
   "metadata": {},
   "outputs": [
    {
     "data": {
      "text/plain": [
       "count    175200.000000\n",
       "mean        201.539070\n",
       "std         100.683777\n",
       "min           0.000000\n",
       "25%         129.000000\n",
       "50%         211.000000\n",
       "75%         290.000000\n",
       "max         360.000000\n",
       "Name: winddirection_100m, dtype: float64"
      ]
     },
     "execution_count": 29,
     "metadata": {},
     "output_type": "execute_result"
    }
   ],
   "source": [
    "updated_df['winddirection_100m'].describe()"
   ]
  },
  {
   "cell_type": "code",
   "execution_count": 30,
   "id": "895af999",
   "metadata": {},
   "outputs": [
    {
     "data": {
      "text/plain": [
       "<Axes: ylabel='winddirection_100m'>"
      ]
     },
     "execution_count": 30,
     "metadata": {},
     "output_type": "execute_result"
    },
    {
     "data": {
      "image/png": "[encoded data removed]",
      "text/plain": [
       "<Figure size 640x480 with 1 Axes>"
      ]
     },
     "metadata": {},
     "output_type": "display_data"
    }
   ],
   "source": [
    "sns.boxplot(updated_df['winddirection_100m'])"
   ]
  },
  {
   "cell_type": "code",
   "execution_count": 31,
   "id": "1439c14f",
   "metadata": {},
   "outputs": [
    {
     "data": {
      "text/plain": [
       "count    175200.000000\n",
       "mean          8.038205\n",
       "std           3.617488\n",
       "min           0.500000\n",
       "25%           5.300000\n",
       "50%           7.600000\n",
       "75%          10.300000\n",
       "max          29.200000\n",
       "Name: windgusts_10m, dtype: float64"
      ]
     },
     "execution_count": 31,
     "metadata": {},
     "output_type": "execute_result"
    }
   ],
   "source": [
    "updated_df['windgusts_10m'].describe()"
   ]
  },
  {
   "cell_type": "code",
   "execution_count": 32,
   "id": "720f1b6f",
   "metadata": {},
   "outputs": [
    {
     "data": {
      "text/plain": [
       "<Axes: ylabel='windgusts_10m'>"
      ]
     },
     "execution_count": 32,
     "metadata": {},
     "output_type": "execute_result"
    },
    {
     "data": {
      "image/png": "[encoded data removed]",
      "text/plain": [
       "<Figure size 640x480 with 1 Axes>"
      ]
     },
     "metadata": {},
     "output_type": "display_data"
    }
   ],
   "source": [
    "sns.boxplot(updated_df['windgusts_10m'])"
   ]
  },
  {
   "cell_type": "code",
   "execution_count": 33,
   "id": "1e0585c2",
   "metadata": {},
   "outputs": [],
   "source": [
    "\n",
    "\n",
    "for col in numeric_cols:\n",
    "    lower_limit = updated_df[col].quantile(0.05)\n",
    "    upper_limit = updated_df[col].quantile(0.95)\n",
    "\n",
    " \n",
    "    updated_df[col] = np.where(updated_df[col] < lower_limit, lower_limit,\n",
    "                       np.where(updated_df[col] > upper_limit, upper_limit, updated_df[col]))"
   ]
  },
  {
   "cell_type": "code",
   "execution_count": 34,
   "id": "b443102a",
   "metadata": {},
   "outputs": [
    {
     "data": {
      "text/plain": [
       "<Axes: ylabel='dewpoint_2m'>"
      ]
     },
     "execution_count": 34,
     "metadata": {},
     "output_type": "execute_result"
    },
    {
     "data": {
      "image/png": "[encoded data removed]",
      "text/plain": [
       "<Figure size 640x480 with 1 Axes>"
      ]
     },
     "metadata": {},
     "output_type": "display_data"
    }
   ],
   "source": [
    "sns.boxplot(updated_df['dewpoint_2m'])"
   ]
  },
  {
   "cell_type": "code",
   "execution_count": 35,
   "id": "1d249bc7",
   "metadata": {},
   "outputs": [
    {
     "data": {
      "text/plain": [
       "<Axes: ylabel='relativehumidity_2m'>"
      ]
     },
     "execution_count": 35,
     "metadata": {},
     "output_type": "execute_result"
    },
    {
     "data": {
      "image/png": "[encoded data removed]",
      "text/plain": [
       "<Figure size 640x480 with 1 Axes>"
      ]
     },
     "metadata": {},
     "output_type": "display_data"
    }
   ],
   "source": [
    "sns.boxplot(updated_df['relativehumidity_2m'])"
   ]
  },
  {
   "cell_type": "code",
   "execution_count": 36,
   "id": "e6652727",
   "metadata": {},
   "outputs": [
    {
     "data": {
      "text/plain": [
       "<Axes: ylabel='dewpoint_2m'>"
      ]
     },
     "execution_count": 36,
     "metadata": {},
     "output_type": "execute_result"
    },
    {
     "data": {
      "image/png": "[encoded data removed]",
      "text/plain": [
       "<Figure size 640x480 with 1 Axes>"
      ]
     },
     "metadata": {},
     "output_type": "display_data"
    }
   ],
   "source": [
    "sns.boxplot(updated_df['dewpoint_2m'])"
   ]
  },
  {
   "cell_type": "code",
   "execution_count": 37,
   "id": "01f9cb60",
   "metadata": {},
   "outputs": [
    {
     "data": {
      "text/plain": [
       "<Axes: ylabel='windspeed_10m'>"
      ]
     },
     "execution_count": 37,
     "metadata": {},
     "output_type": "execute_result"
    },
    {
     "data": {
      "image/png": "[encoded data removed]",
      "text/plain": [
       "<Figure size 640x480 with 1 Axes>"
      ]
     },
     "metadata": {},
     "output_type": "display_data"
    }
   ],
   "source": [
    "sns.boxplot(updated_df['windspeed_10m'])"
   ]
  },
  {
   "cell_type": "code",
   "execution_count": 38,
   "id": "a65ccceb",
   "metadata": {},
   "outputs": [
    {
     "data": {
      "text/plain": [
       "<Axes: ylabel='windspeed_100m'>"
      ]
     },
     "execution_count": 38,
     "metadata": {},
     "output_type": "execute_result"
    },
    {
     "data": {
      "image/png": "[encoded data removed]",
      "text/plain": [
       "<Figure size 640x480 with 1 Axes>"
      ]
     },
     "metadata": {},
     "output_type": "display_data"
    }
   ],
   "source": [
    "sns.boxplot(updated_df['windspeed_100m'])"
   ]
  },
  {
   "cell_type": "code",
   "execution_count": 39,
   "id": "06d30ef0",
   "metadata": {},
   "outputs": [
    {
     "data": {
      "text/plain": [
       "<Axes: ylabel='winddirection_10m'>"
      ]
     },
     "execution_count": 39,
     "metadata": {},
     "output_type": "execute_result"
    },
    {
     "data": {
      "image/png": "[encoded data removed]",
      "text/plain": [
       "<Figure size 640x480 with 1 Axes>"
      ]
     },
     "metadata": {},
     "output_type": "display_data"
    }
   ],
   "source": [
    "sns.boxplot(updated_df['winddirection_10m'])"
   ]
  },
  {
   "cell_type": "code",
   "execution_count": 40,
   "id": "56052b6a",
   "metadata": {},
   "outputs": [
    {
     "data": {
      "text/plain": [
       "<Axes: ylabel='winddirection_100m'>"
      ]
     },
     "execution_count": 40,
     "metadata": {},
     "output_type": "execute_result"
    },
    {
     "data": {
      "image/png": "[encoded data removed]",
      "text/plain": [
       "<Figure size 640x480 with 1 Axes>"
      ]
     },
     "metadata": {},
     "output_type": "display_data"
    }
   ],
   "source": [
    "sns.boxplot(updated_df['winddirection_100m'])"
   ]
  },
  {
   "cell_type": "code",
   "execution_count": 41,
   "id": "d02be5b7",
   "metadata": {},
   "outputs": [
    {
     "data": {
      "text/plain": [
       "<Axes: ylabel='windgusts_10m'>"
      ]
     },
     "execution_count": 41,
     "metadata": {},
     "output_type": "execute_result"
    },
    {
     "data": {
      "image/png": "[encoded data removed]",
      "text/plain": [
       "<Figure size 640x480 with 1 Axes>"
      ]
     },
     "metadata": {},
     "output_type": "display_data"
    }
   ],
   "source": [
    "sns.boxplot(updated_df['windgusts_10m'])"
   ]
  },
  {
   "cell_type": "code",
   "execution_count": null,
   "id": "ecbd2f46",
   "metadata": {},
   "outputs": [],
   "source": []
  }
 ],
 "metadata": {
  "kernelspec": {
   "display_name": "Python 3",
   "language": "python",
   "name": "python3"
  },
  "language_info": {
   "codemirror_mode": {
    "name": "ipython",
    "version": 3
   },
   "file_extension": ".py",
   "mimetype": "text/x-python",
   "name": "python",
   "nbconvert_exporter": "python",
   "pygments_lexer": "ipython3",
   "version": "3.13.7"
  }
 },
 "nbformat": 4,
 "nbformat_minor": 5
}
