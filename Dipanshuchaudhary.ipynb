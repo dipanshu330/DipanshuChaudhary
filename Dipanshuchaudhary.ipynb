{
 "cells": [
  {
   "cell_type": "code",
   "execution_count": 431,
   "id": "d612f94f",
   "metadata": {},
   "outputs": [],
   "source": [
    "import pandas as pd\n",
    "import matplotlib.pyplot as plt\n",
    "import seaborn as sns\n",
    "import numpy as np"
   ]
  },
  {
   "cell_type": "code",
   "execution_count": 432,
   "id": "58b82211",
   "metadata": {},
   "outputs": [],
   "source": [
    "df1 = pd.read_csv('Location1.csv')\n",
    "df2 = pd.read_csv('Location2.csv')\n",
    "df3 = pd.read_csv('Location3.csv')\n",
    "df4 = pd.read_csv('Location4.csv') "
   ]
  },
  {
   "cell_type": "code",
   "execution_count": 433,
   "id": "cfba8fc6",
   "metadata": {},
   "outputs": [
    {
     "name": "stdout",
     "output_type": "stream",
     "text": [
      "The columns in the data are as follows:\n",
      "\n",
      "Time - Hour of the day when readings occurred\n",
      "temperature_2m - Temperature in degrees Fahrenheit at 2 meters above the surface\n",
      "relativehumidity_2m - Relative humidity (as a percentage) at 2 meters above the surface\n",
      "dewpoint_2m - Dew point in degrees Fahrenheit at 2 meters above the surface\n",
      "windspeed_10m - Wind speed in meters per second at 10 meters above the surface\n",
      "windspeed_100m - Wind speed in meters per second at 100 meters above the surface\n",
      "winddirection_10m - Wind direction in degrees (0-360) at 10 meters above the surface (see notes)\n",
      "winddirection_100m - Wind direction in degrees (0-360) at 100 meters above the surface (see notes)\n",
      "windgusts_10m - Wind gusts in meters per second at 100 meters above the surface\n",
      "Power - Turbine output, normalized to be between 0 and 1 (i.e., a percentage of maximum potential output)\n",
      "\n",
      "Notes:\n",
      "\t1) Likely many of these variables will not be very relevant. They are included here but do not need to be included in the final models.\n",
      "\t2) Degrees are measured from 0 to 360. Since 0 and 360 represent the same spot on a circle, consider transforming these using sine and/or cosine. Also consider converting them to radians, instead of degrees.\n",
      "\t3) Each location can have a different model. There is no reason to build one model to work for all locations.\n",
      "\n",
      "\n"
     ]
    }
   ],
   "source": [
    "with open('readme.txt') as f:\n",
    "    readme=f.read()\n",
    "    print(readme)"
   ]
  },
  {
   "cell_type": "code",
   "execution_count": 434,
   "id": "fb88a09e",
   "metadata": {},
   "outputs": [],
   "source": [
    "updated_df = pd.concat([df1, df2, df3,df4], ignore_index=True)"
   ]
  },
  {
   "cell_type": "code",
   "execution_count": 435,
   "id": "dc3b285f",
   "metadata": {},
   "outputs": [
    {
     "data": {
      "text/plain": [
       "(175200, 10)"
      ]
     },
     "execution_count": 435,
     "metadata": {},
     "output_type": "execute_result"
    }
   ],
   "source": [
    "updated_df.shape"
   ]
  },
  {
   "cell_type": "code",
   "execution_count": 436,
   "id": "7ce399d3",
   "metadata": {},
   "outputs": [
    {
     "data": {
      "text/html": [
       "<div>\n",
       "<style scoped>\n",
       "    .dataframe tbody tr th:only-of-type {\n",
       "        vertical-align: middle;\n",
       "    }\n",
       "\n",
       "    .dataframe tbody tr th {\n",
       "        vertical-align: top;\n",
       "    }\n",
       "\n",
       "    .dataframe thead th {\n",
       "        text-align: right;\n",
       "    }\n",
       "</style>\n",
       "<table border=\"1\" class=\"dataframe\">\n",
       "  <thead>\n",
       "    <tr style=\"text-align: right;\">\n",
       "      <th></th>\n",
       "      <th>Time</th>\n",
       "      <th>temperature_2m</th>\n",
       "      <th>relativehumidity_2m</th>\n",
       "      <th>dewpoint_2m</th>\n",
       "      <th>windspeed_10m</th>\n",
       "      <th>windspeed_100m</th>\n",
       "      <th>winddirection_10m</th>\n",
       "      <th>winddirection_100m</th>\n",
       "      <th>windgusts_10m</th>\n",
       "      <th>Power</th>\n",
       "    </tr>\n",
       "  </thead>\n",
       "  <tbody>\n",
       "    <tr>\n",
       "      <th>0</th>\n",
       "      <td>2017-01-02 00:00:00</td>\n",
       "      <td>28.5</td>\n",
       "      <td>85</td>\n",
       "      <td>24.5</td>\n",
       "      <td>1.44</td>\n",
       "      <td>1.26</td>\n",
       "      <td>146</td>\n",
       "      <td>162</td>\n",
       "      <td>1.4</td>\n",
       "      <td>0.1635</td>\n",
       "    </tr>\n",
       "    <tr>\n",
       "      <th>1</th>\n",
       "      <td>2017-01-02 01:00:00</td>\n",
       "      <td>28.4</td>\n",
       "      <td>86</td>\n",
       "      <td>24.7</td>\n",
       "      <td>2.06</td>\n",
       "      <td>3.99</td>\n",
       "      <td>151</td>\n",
       "      <td>158</td>\n",
       "      <td>4.4</td>\n",
       "      <td>0.1424</td>\n",
       "    </tr>\n",
       "    <tr>\n",
       "      <th>2</th>\n",
       "      <td>2017-01-02 02:00:00</td>\n",
       "      <td>26.8</td>\n",
       "      <td>91</td>\n",
       "      <td>24.5</td>\n",
       "      <td>1.30</td>\n",
       "      <td>2.78</td>\n",
       "      <td>148</td>\n",
       "      <td>150</td>\n",
       "      <td>3.2</td>\n",
       "      <td>0.1214</td>\n",
       "    </tr>\n",
       "    <tr>\n",
       "      <th>3</th>\n",
       "      <td>2017-01-02 03:00:00</td>\n",
       "      <td>27.4</td>\n",
       "      <td>88</td>\n",
       "      <td>24.3</td>\n",
       "      <td>1.30</td>\n",
       "      <td>2.69</td>\n",
       "      <td>58</td>\n",
       "      <td>105</td>\n",
       "      <td>1.6</td>\n",
       "      <td>0.1003</td>\n",
       "    </tr>\n",
       "    <tr>\n",
       "      <th>4</th>\n",
       "      <td>2017-01-02 04:00:00</td>\n",
       "      <td>27.3</td>\n",
       "      <td>88</td>\n",
       "      <td>24.1</td>\n",
       "      <td>2.47</td>\n",
       "      <td>4.43</td>\n",
       "      <td>58</td>\n",
       "      <td>84</td>\n",
       "      <td>4.0</td>\n",
       "      <td>0.0793</td>\n",
       "    </tr>\n",
       "  </tbody>\n",
       "</table>\n",
       "</div>"
      ],
      "text/plain": [
       "                  Time  temperature_2m  relativehumidity_2m  dewpoint_2m  \\\n",
       "0  2017-01-02 00:00:00            28.5                   85         24.5   \n",
       "1  2017-01-02 01:00:00            28.4                   86         24.7   \n",
       "2  2017-01-02 02:00:00            26.8                   91         24.5   \n",
       "3  2017-01-02 03:00:00            27.4                   88         24.3   \n",
       "4  2017-01-02 04:00:00            27.3                   88         24.1   \n",
       "\n",
       "   windspeed_10m  windspeed_100m  winddirection_10m  winddirection_100m  \\\n",
       "0           1.44            1.26                146                 162   \n",
       "1           2.06            3.99                151                 158   \n",
       "2           1.30            2.78                148                 150   \n",
       "3           1.30            2.69                 58                 105   \n",
       "4           2.47            4.43                 58                  84   \n",
       "\n",
       "   windgusts_10m   Power  \n",
       "0            1.4  0.1635  \n",
       "1            4.4  0.1424  \n",
       "2            3.2  0.1214  \n",
       "3            1.6  0.1003  \n",
       "4            4.0  0.0793  "
      ]
     },
     "execution_count": 436,
     "metadata": {},
     "output_type": "execute_result"
    }
   ],
   "source": [
    "updated_df.head()"
   ]
  },
  {
   "cell_type": "code",
   "execution_count": 437,
   "id": "3ddfd46f",
   "metadata": {},
   "outputs": [
    {
     "data": {
      "text/html": [
       "<div>\n",
       "<style scoped>\n",
       "    .dataframe tbody tr th:only-of-type {\n",
       "        vertical-align: middle;\n",
       "    }\n",
       "\n",
       "    .dataframe tbody tr th {\n",
       "        vertical-align: top;\n",
       "    }\n",
       "\n",
       "    .dataframe thead th {\n",
       "        text-align: right;\n",
       "    }\n",
       "</style>\n",
       "<table border=\"1\" class=\"dataframe\">\n",
       "  <thead>\n",
       "    <tr style=\"text-align: right;\">\n",
       "      <th></th>\n",
       "      <th>Time</th>\n",
       "      <th>temperature_2m</th>\n",
       "      <th>relativehumidity_2m</th>\n",
       "      <th>dewpoint_2m</th>\n",
       "      <th>windspeed_10m</th>\n",
       "      <th>windspeed_100m</th>\n",
       "      <th>winddirection_10m</th>\n",
       "      <th>winddirection_100m</th>\n",
       "      <th>windgusts_10m</th>\n",
       "      <th>Power</th>\n",
       "    </tr>\n",
       "  </thead>\n",
       "  <tbody>\n",
       "    <tr>\n",
       "      <th>38396</th>\n",
       "      <td>2021-05-20 20:00:00</td>\n",
       "      <td>69.4</td>\n",
       "      <td>61</td>\n",
       "      <td>55.5</td>\n",
       "      <td>2.28</td>\n",
       "      <td>5.81</td>\n",
       "      <td>128</td>\n",
       "      <td>139</td>\n",
       "      <td>4.2</td>\n",
       "      <td>0.3946</td>\n",
       "    </tr>\n",
       "    <tr>\n",
       "      <th>128584</th>\n",
       "      <td>2021-09-05 16:00:00</td>\n",
       "      <td>79.1</td>\n",
       "      <td>47</td>\n",
       "      <td>57.3</td>\n",
       "      <td>4.46</td>\n",
       "      <td>6.48</td>\n",
       "      <td>261</td>\n",
       "      <td>261</td>\n",
       "      <td>8.5</td>\n",
       "      <td>0.1875</td>\n",
       "    </tr>\n",
       "    <tr>\n",
       "      <th>42737</th>\n",
       "      <td>2021-11-17 17:00:00</td>\n",
       "      <td>58.2</td>\n",
       "      <td>93</td>\n",
       "      <td>56.3</td>\n",
       "      <td>4.75</td>\n",
       "      <td>8.87</td>\n",
       "      <td>221</td>\n",
       "      <td>220</td>\n",
       "      <td>10.2</td>\n",
       "      <td>0.9241</td>\n",
       "    </tr>\n",
       "    <tr>\n",
       "      <th>1161</th>\n",
       "      <td>2017-02-19 09:00:00</td>\n",
       "      <td>45.1</td>\n",
       "      <td>66</td>\n",
       "      <td>34.3</td>\n",
       "      <td>2.88</td>\n",
       "      <td>4.40</td>\n",
       "      <td>290</td>\n",
       "      <td>291</td>\n",
       "      <td>6.5</td>\n",
       "      <td>0.3093</td>\n",
       "    </tr>\n",
       "    <tr>\n",
       "      <th>64676</th>\n",
       "      <td>2019-05-21 20:00:00</td>\n",
       "      <td>49.6</td>\n",
       "      <td>69</td>\n",
       "      <td>39.7</td>\n",
       "      <td>6.75</td>\n",
       "      <td>11.75</td>\n",
       "      <td>83</td>\n",
       "      <td>85</td>\n",
       "      <td>14.1</td>\n",
       "      <td>0.6375</td>\n",
       "    </tr>\n",
       "  </tbody>\n",
       "</table>\n",
       "</div>"
      ],
      "text/plain": [
       "                       Time  temperature_2m  relativehumidity_2m  dewpoint_2m  \\\n",
       "38396   2021-05-20 20:00:00            69.4                   61         55.5   \n",
       "128584  2021-09-05 16:00:00            79.1                   47         57.3   \n",
       "42737   2021-11-17 17:00:00            58.2                   93         56.3   \n",
       "1161    2017-02-19 09:00:00            45.1                   66         34.3   \n",
       "64676   2019-05-21 20:00:00            49.6                   69         39.7   \n",
       "\n",
       "        windspeed_10m  windspeed_100m  winddirection_10m  winddirection_100m  \\\n",
       "38396            2.28            5.81                128                 139   \n",
       "128584           4.46            6.48                261                 261   \n",
       "42737            4.75            8.87                221                 220   \n",
       "1161             2.88            4.40                290                 291   \n",
       "64676            6.75           11.75                 83                  85   \n",
       "\n",
       "        windgusts_10m   Power  \n",
       "38396             4.2  0.3946  \n",
       "128584            8.5  0.1875  \n",
       "42737            10.2  0.9241  \n",
       "1161              6.5  0.3093  \n",
       "64676            14.1  0.6375  "
      ]
     },
     "execution_count": 437,
     "metadata": {},
     "output_type": "execute_result"
    }
   ],
   "source": [
    "updated_df.sample(5)"
   ]
  },
  {
   "cell_type": "code",
   "execution_count": 438,
   "id": "930ad56d",
   "metadata": {},
   "outputs": [
    {
     "data": {
      "text/html": [
       "<div>\n",
       "<style scoped>\n",
       "    .dataframe tbody tr th:only-of-type {\n",
       "        vertical-align: middle;\n",
       "    }\n",
       "\n",
       "    .dataframe tbody tr th {\n",
       "        vertical-align: top;\n",
       "    }\n",
       "\n",
       "    .dataframe thead th {\n",
       "        text-align: right;\n",
       "    }\n",
       "</style>\n",
       "<table border=\"1\" class=\"dataframe\">\n",
       "  <thead>\n",
       "    <tr style=\"text-align: right;\">\n",
       "      <th></th>\n",
       "      <th>Time</th>\n",
       "      <th>temperature_2m</th>\n",
       "      <th>relativehumidity_2m</th>\n",
       "      <th>dewpoint_2m</th>\n",
       "      <th>windspeed_10m</th>\n",
       "      <th>windspeed_100m</th>\n",
       "      <th>winddirection_10m</th>\n",
       "      <th>winddirection_100m</th>\n",
       "      <th>windgusts_10m</th>\n",
       "      <th>Power</th>\n",
       "    </tr>\n",
       "  </thead>\n",
       "  <tbody>\n",
       "    <tr>\n",
       "      <th>175195</th>\n",
       "      <td>2021-12-31 19:00:00</td>\n",
       "      <td>25.5</td>\n",
       "      <td>94</td>\n",
       "      <td>24.0</td>\n",
       "      <td>4.01</td>\n",
       "      <td>6.66</td>\n",
       "      <td>4</td>\n",
       "      <td>8</td>\n",
       "      <td>8.2</td>\n",
       "      <td>0.3417</td>\n",
       "    </tr>\n",
       "    <tr>\n",
       "      <th>175196</th>\n",
       "      <td>2021-12-31 20:00:00</td>\n",
       "      <td>25.3</td>\n",
       "      <td>92</td>\n",
       "      <td>23.2</td>\n",
       "      <td>4.70</td>\n",
       "      <td>7.52</td>\n",
       "      <td>1</td>\n",
       "      <td>5</td>\n",
       "      <td>7.9</td>\n",
       "      <td>0.3342</td>\n",
       "    </tr>\n",
       "    <tr>\n",
       "      <th>175197</th>\n",
       "      <td>2021-12-31 21:00:00</td>\n",
       "      <td>24.9</td>\n",
       "      <td>90</td>\n",
       "      <td>22.5</td>\n",
       "      <td>4.61</td>\n",
       "      <td>7.57</td>\n",
       "      <td>4</td>\n",
       "      <td>8</td>\n",
       "      <td>7.9</td>\n",
       "      <td>0.3267</td>\n",
       "    </tr>\n",
       "    <tr>\n",
       "      <th>175198</th>\n",
       "      <td>2021-12-31 22:00:00</td>\n",
       "      <td>24.9</td>\n",
       "      <td>89</td>\n",
       "      <td>22.1</td>\n",
       "      <td>4.60</td>\n",
       "      <td>7.44</td>\n",
       "      <td>2</td>\n",
       "      <td>6</td>\n",
       "      <td>7.8</td>\n",
       "      <td>0.3192</td>\n",
       "    </tr>\n",
       "    <tr>\n",
       "      <th>175199</th>\n",
       "      <td>2021-12-31 23:00:00</td>\n",
       "      <td>24.9</td>\n",
       "      <td>88</td>\n",
       "      <td>21.8</td>\n",
       "      <td>4.65</td>\n",
       "      <td>7.77</td>\n",
       "      <td>9</td>\n",
       "      <td>12</td>\n",
       "      <td>7.8</td>\n",
       "      <td>0.3117</td>\n",
       "    </tr>\n",
       "  </tbody>\n",
       "</table>\n",
       "</div>"
      ],
      "text/plain": [
       "                       Time  temperature_2m  relativehumidity_2m  dewpoint_2m  \\\n",
       "175195  2021-12-31 19:00:00            25.5                   94         24.0   \n",
       "175196  2021-12-31 20:00:00            25.3                   92         23.2   \n",
       "175197  2021-12-31 21:00:00            24.9                   90         22.5   \n",
       "175198  2021-12-31 22:00:00            24.9                   89         22.1   \n",
       "175199  2021-12-31 23:00:00            24.9                   88         21.8   \n",
       "\n",
       "        windspeed_10m  windspeed_100m  winddirection_10m  winddirection_100m  \\\n",
       "175195           4.01            6.66                  4                   8   \n",
       "175196           4.70            7.52                  1                   5   \n",
       "175197           4.61            7.57                  4                   8   \n",
       "175198           4.60            7.44                  2                   6   \n",
       "175199           4.65            7.77                  9                  12   \n",
       "\n",
       "        windgusts_10m   Power  \n",
       "175195            8.2  0.3417  \n",
       "175196            7.9  0.3342  \n",
       "175197            7.9  0.3267  \n",
       "175198            7.8  0.3192  \n",
       "175199            7.8  0.3117  "
      ]
     },
     "execution_count": 438,
     "metadata": {},
     "output_type": "execute_result"
    }
   ],
   "source": [
    "updated_df.tail()"
   ]
  },
  {
   "cell_type": "code",
   "execution_count": 439,
   "id": "a67dda73",
   "metadata": {},
   "outputs": [
    {
     "name": "stdout",
     "output_type": "stream",
     "text": [
      "<class 'pandas.core.frame.DataFrame'>\n",
      "RangeIndex: 175200 entries, 0 to 175199\n",
      "Data columns (total 10 columns):\n",
      " #   Column               Non-Null Count   Dtype  \n",
      "---  ------               --------------   -----  \n",
      " 0   Time                 175200 non-null  object \n",
      " 1   temperature_2m       175200 non-null  float64\n",
      " 2   relativehumidity_2m  175200 non-null  int64  \n",
      " 3   dewpoint_2m          175200 non-null  float64\n",
      " 4   windspeed_10m        175200 non-null  float64\n",
      " 5   windspeed_100m       175200 non-null  float64\n",
      " 6   winddirection_10m    175200 non-null  int64  \n",
      " 7   winddirection_100m   175200 non-null  int64  \n",
      " 8   windgusts_10m        175200 non-null  float64\n",
      " 9   Power                175200 non-null  float64\n",
      "dtypes: float64(6), int64(3), object(1)\n",
      "memory usage: 13.4+ MB\n"
     ]
    }
   ],
   "source": [
    "updated_df.info()"
   ]
  },
  {
   "cell_type": "code",
   "execution_count": 440,
   "id": "b37b2c06",
   "metadata": {},
   "outputs": [
    {
     "data": {
      "text/html": [
       "<div>\n",
       "<style scoped>\n",
       "    .dataframe tbody tr th:only-of-type {\n",
       "        vertical-align: middle;\n",
       "    }\n",
       "\n",
       "    .dataframe tbody tr th {\n",
       "        vertical-align: top;\n",
       "    }\n",
       "\n",
       "    .dataframe thead th {\n",
       "        text-align: right;\n",
       "    }\n",
       "</style>\n",
       "<table border=\"1\" class=\"dataframe\">\n",
       "  <thead>\n",
       "    <tr style=\"text-align: right;\">\n",
       "      <th></th>\n",
       "      <th>temperature_2m</th>\n",
       "      <th>relativehumidity_2m</th>\n",
       "      <th>dewpoint_2m</th>\n",
       "      <th>windspeed_10m</th>\n",
       "      <th>windspeed_100m</th>\n",
       "      <th>winddirection_10m</th>\n",
       "      <th>winddirection_100m</th>\n",
       "      <th>windgusts_10m</th>\n",
       "      <th>Power</th>\n",
       "    </tr>\n",
       "  </thead>\n",
       "  <tbody>\n",
       "    <tr>\n",
       "      <th>count</th>\n",
       "      <td>43800.000000</td>\n",
       "      <td>43800.000000</td>\n",
       "      <td>43800.000000</td>\n",
       "      <td>43800.000000</td>\n",
       "      <td>43800.000000</td>\n",
       "      <td>43800.000000</td>\n",
       "      <td>43800.000000</td>\n",
       "      <td>43800.000000</td>\n",
       "      <td>43800.000000</td>\n",
       "    </tr>\n",
       "    <tr>\n",
       "      <th>mean</th>\n",
       "      <td>47.862911</td>\n",
       "      <td>72.288744</td>\n",
       "      <td>38.569308</td>\n",
       "      <td>3.591147</td>\n",
       "      <td>6.284431</td>\n",
       "      <td>203.637329</td>\n",
       "      <td>203.343676</td>\n",
       "      <td>7.771795</td>\n",
       "      <td>0.405385</td>\n",
       "    </tr>\n",
       "    <tr>\n",
       "      <th>std</th>\n",
       "      <td>19.453691</td>\n",
       "      <td>16.852287</td>\n",
       "      <td>18.772110</td>\n",
       "      <td>1.649318</td>\n",
       "      <td>2.685216</td>\n",
       "      <td>96.371262</td>\n",
       "      <td>97.959852</td>\n",
       "      <td>3.569147</td>\n",
       "      <td>0.288322</td>\n",
       "    </tr>\n",
       "    <tr>\n",
       "      <th>min</th>\n",
       "      <td>-14.400000</td>\n",
       "      <td>18.000000</td>\n",
       "      <td>-17.100000</td>\n",
       "      <td>0.000000</td>\n",
       "      <td>0.100000</td>\n",
       "      <td>1.000000</td>\n",
       "      <td>0.000000</td>\n",
       "      <td>0.500000</td>\n",
       "      <td>0.000000</td>\n",
       "    </tr>\n",
       "    <tr>\n",
       "      <th>25%</th>\n",
       "      <td>32.100000</td>\n",
       "      <td>60.000000</td>\n",
       "      <td>24.300000</td>\n",
       "      <td>2.410000</td>\n",
       "      <td>4.380000</td>\n",
       "      <td>132.000000</td>\n",
       "      <td>130.000000</td>\n",
       "      <td>5.000000</td>\n",
       "      <td>0.148900</td>\n",
       "    </tr>\n",
       "    <tr>\n",
       "      <th>50%</th>\n",
       "      <td>47.300000</td>\n",
       "      <td>74.000000</td>\n",
       "      <td>38.100000</td>\n",
       "      <td>3.300000</td>\n",
       "      <td>6.080000</td>\n",
       "      <td>225.000000</td>\n",
       "      <td>226.000000</td>\n",
       "      <td>7.200000</td>\n",
       "      <td>0.347650</td>\n",
       "    </tr>\n",
       "    <tr>\n",
       "      <th>75%</th>\n",
       "      <td>64.500000</td>\n",
       "      <td>86.000000</td>\n",
       "      <td>54.700000</td>\n",
       "      <td>4.590000</td>\n",
       "      <td>7.990000</td>\n",
       "      <td>277.000000</td>\n",
       "      <td>278.000000</td>\n",
       "      <td>10.000000</td>\n",
       "      <td>0.659600</td>\n",
       "    </tr>\n",
       "    <tr>\n",
       "      <th>max</th>\n",
       "      <td>94.100000</td>\n",
       "      <td>100.000000</td>\n",
       "      <td>76.300000</td>\n",
       "      <td>13.450000</td>\n",
       "      <td>20.650000</td>\n",
       "      <td>360.000000</td>\n",
       "      <td>360.000000</td>\n",
       "      <td>29.200000</td>\n",
       "      <td>0.991300</td>\n",
       "    </tr>\n",
       "  </tbody>\n",
       "</table>\n",
       "</div>"
      ],
      "text/plain": [
       "       temperature_2m  relativehumidity_2m   dewpoint_2m  windspeed_10m  \\\n",
       "count    43800.000000         43800.000000  43800.000000   43800.000000   \n",
       "mean        47.862911            72.288744     38.569308       3.591147   \n",
       "std         19.453691            16.852287     18.772110       1.649318   \n",
       "min        -14.400000            18.000000    -17.100000       0.000000   \n",
       "25%         32.100000            60.000000     24.300000       2.410000   \n",
       "50%         47.300000            74.000000     38.100000       3.300000   \n",
       "75%         64.500000            86.000000     54.700000       4.590000   \n",
       "max         94.100000           100.000000     76.300000      13.450000   \n",
       "\n",
       "       windspeed_100m  winddirection_10m  winddirection_100m  windgusts_10m  \\\n",
       "count    43800.000000       43800.000000        43800.000000   43800.000000   \n",
       "mean         6.284431         203.637329          203.343676       7.771795   \n",
       "std          2.685216          96.371262           97.959852       3.569147   \n",
       "min          0.100000           1.000000            0.000000       0.500000   \n",
       "25%          4.380000         132.000000          130.000000       5.000000   \n",
       "50%          6.080000         225.000000          226.000000       7.200000   \n",
       "75%          7.990000         277.000000          278.000000      10.000000   \n",
       "max         20.650000         360.000000          360.000000      29.200000   \n",
       "\n",
       "              Power  \n",
       "count  43800.000000  \n",
       "mean       0.405385  \n",
       "std        0.288322  \n",
       "min        0.000000  \n",
       "25%        0.148900  \n",
       "50%        0.347650  \n",
       "75%        0.659600  \n",
       "max        0.991300  "
      ]
     },
     "execution_count": 440,
     "metadata": {},
     "output_type": "execute_result"
    }
   ],
   "source": [
    "df1.describe()"
   ]
  },
  {
   "cell_type": "code",
   "execution_count": 441,
   "id": "91ee0362",
   "metadata": {},
   "outputs": [
    {
     "data": {
      "text/html": [
       "<div>\n",
       "<style scoped>\n",
       "    .dataframe tbody tr th:only-of-type {\n",
       "        vertical-align: middle;\n",
       "    }\n",
       "\n",
       "    .dataframe tbody tr th {\n",
       "        vertical-align: top;\n",
       "    }\n",
       "\n",
       "    .dataframe thead th {\n",
       "        text-align: right;\n",
       "    }\n",
       "</style>\n",
       "<table border=\"1\" class=\"dataframe\">\n",
       "  <thead>\n",
       "    <tr style=\"text-align: right;\">\n",
       "      <th></th>\n",
       "      <th>temperature_2m</th>\n",
       "      <th>relativehumidity_2m</th>\n",
       "      <th>dewpoint_2m</th>\n",
       "      <th>windspeed_10m</th>\n",
       "      <th>windspeed_100m</th>\n",
       "      <th>winddirection_10m</th>\n",
       "      <th>winddirection_100m</th>\n",
       "      <th>windgusts_10m</th>\n",
       "      <th>Power</th>\n",
       "    </tr>\n",
       "  </thead>\n",
       "  <tbody>\n",
       "    <tr>\n",
       "      <th>count</th>\n",
       "      <td>43800.000000</td>\n",
       "      <td>43800.000000</td>\n",
       "      <td>43800.000000</td>\n",
       "      <td>43800.000000</td>\n",
       "      <td>43800.000000</td>\n",
       "      <td>43800.000000</td>\n",
       "      <td>43800.000000</td>\n",
       "      <td>43800.000000</td>\n",
       "      <td>43800.000000</td>\n",
       "    </tr>\n",
       "    <tr>\n",
       "      <th>mean</th>\n",
       "      <td>42.725605</td>\n",
       "      <td>69.085091</td>\n",
       "      <td>32.215932</td>\n",
       "      <td>4.693236</td>\n",
       "      <td>7.572439</td>\n",
       "      <td>208.512626</td>\n",
       "      <td>206.555594</td>\n",
       "      <td>8.557470</td>\n",
       "      <td>0.249902</td>\n",
       "    </tr>\n",
       "    <tr>\n",
       "      <th>std</th>\n",
       "      <td>23.724354</td>\n",
       "      <td>17.317481</td>\n",
       "      <td>21.307625</td>\n",
       "      <td>2.238572</td>\n",
       "      <td>3.381060</td>\n",
       "      <td>103.088845</td>\n",
       "      <td>104.882857</td>\n",
       "      <td>3.710385</td>\n",
       "      <td>0.209088</td>\n",
       "    </tr>\n",
       "    <tr>\n",
       "      <th>min</th>\n",
       "      <td>-31.200000</td>\n",
       "      <td>16.000000</td>\n",
       "      <td>-36.200000</td>\n",
       "      <td>0.000000</td>\n",
       "      <td>0.100000</td>\n",
       "      <td>1.000000</td>\n",
       "      <td>0.000000</td>\n",
       "      <td>0.500000</td>\n",
       "      <td>0.000000</td>\n",
       "    </tr>\n",
       "    <tr>\n",
       "      <th>25%</th>\n",
       "      <td>26.100000</td>\n",
       "      <td>56.000000</td>\n",
       "      <td>18.600000</td>\n",
       "      <td>3.010000</td>\n",
       "      <td>5.110000</td>\n",
       "      <td>135.000000</td>\n",
       "      <td>129.000000</td>\n",
       "      <td>5.800000</td>\n",
       "      <td>0.076200</td>\n",
       "    </tr>\n",
       "    <tr>\n",
       "      <th>50%</th>\n",
       "      <td>42.700000</td>\n",
       "      <td>71.000000</td>\n",
       "      <td>32.000000</td>\n",
       "      <td>4.440000</td>\n",
       "      <td>7.400000</td>\n",
       "      <td>224.000000</td>\n",
       "      <td>218.000000</td>\n",
       "      <td>8.200000</td>\n",
       "      <td>0.194950</td>\n",
       "    </tr>\n",
       "    <tr>\n",
       "      <th>75%</th>\n",
       "      <td>63.000000</td>\n",
       "      <td>83.000000</td>\n",
       "      <td>50.600000</td>\n",
       "      <td>6.040000</td>\n",
       "      <td>9.740000</td>\n",
       "      <td>300.000000</td>\n",
       "      <td>302.000000</td>\n",
       "      <td>10.800000</td>\n",
       "      <td>0.381800</td>\n",
       "    </tr>\n",
       "    <tr>\n",
       "      <th>max</th>\n",
       "      <td>95.400000</td>\n",
       "      <td>100.000000</td>\n",
       "      <td>76.600000</td>\n",
       "      <td>18.270000</td>\n",
       "      <td>24.590000</td>\n",
       "      <td>360.000000</td>\n",
       "      <td>360.000000</td>\n",
       "      <td>29.000000</td>\n",
       "      <td>0.985900</td>\n",
       "    </tr>\n",
       "  </tbody>\n",
       "</table>\n",
       "</div>"
      ],
      "text/plain": [
       "       temperature_2m  relativehumidity_2m   dewpoint_2m  windspeed_10m  \\\n",
       "count    43800.000000         43800.000000  43800.000000   43800.000000   \n",
       "mean        42.725605            69.085091     32.215932       4.693236   \n",
       "std         23.724354            17.317481     21.307625       2.238572   \n",
       "min        -31.200000            16.000000    -36.200000       0.000000   \n",
       "25%         26.100000            56.000000     18.600000       3.010000   \n",
       "50%         42.700000            71.000000     32.000000       4.440000   \n",
       "75%         63.000000            83.000000     50.600000       6.040000   \n",
       "max         95.400000           100.000000     76.600000      18.270000   \n",
       "\n",
       "       windspeed_100m  winddirection_10m  winddirection_100m  windgusts_10m  \\\n",
       "count    43800.000000       43800.000000        43800.000000   43800.000000   \n",
       "mean         7.572439         208.512626          206.555594       8.557470   \n",
       "std          3.381060         103.088845          104.882857       3.710385   \n",
       "min          0.100000           1.000000            0.000000       0.500000   \n",
       "25%          5.110000         135.000000          129.000000       5.800000   \n",
       "50%          7.400000         224.000000          218.000000       8.200000   \n",
       "75%          9.740000         300.000000          302.000000      10.800000   \n",
       "max         24.590000         360.000000          360.000000      29.000000   \n",
       "\n",
       "              Power  \n",
       "count  43800.000000  \n",
       "mean       0.249902  \n",
       "std        0.209088  \n",
       "min        0.000000  \n",
       "25%        0.076200  \n",
       "50%        0.194950  \n",
       "75%        0.381800  \n",
       "max        0.985900  "
      ]
     },
     "execution_count": 441,
     "metadata": {},
     "output_type": "execute_result"
    }
   ],
   "source": [
    "df2.describe()"
   ]
  },
  {
   "cell_type": "code",
   "execution_count": 442,
   "id": "35571eba",
   "metadata": {},
   "outputs": [
    {
     "data": {
      "text/html": [
       "<div>\n",
       "<style scoped>\n",
       "    .dataframe tbody tr th:only-of-type {\n",
       "        vertical-align: middle;\n",
       "    }\n",
       "\n",
       "    .dataframe tbody tr th {\n",
       "        vertical-align: top;\n",
       "    }\n",
       "\n",
       "    .dataframe thead th {\n",
       "        text-align: right;\n",
       "    }\n",
       "</style>\n",
       "<table border=\"1\" class=\"dataframe\">\n",
       "  <thead>\n",
       "    <tr style=\"text-align: right;\">\n",
       "      <th></th>\n",
       "      <th>temperature_2m</th>\n",
       "      <th>relativehumidity_2m</th>\n",
       "      <th>dewpoint_2m</th>\n",
       "      <th>windspeed_10m</th>\n",
       "      <th>windspeed_100m</th>\n",
       "      <th>winddirection_10m</th>\n",
       "      <th>winddirection_100m</th>\n",
       "      <th>windgusts_10m</th>\n",
       "      <th>Power</th>\n",
       "    </tr>\n",
       "  </thead>\n",
       "  <tbody>\n",
       "    <tr>\n",
       "      <th>count</th>\n",
       "      <td>43800.000000</td>\n",
       "      <td>43800.000000</td>\n",
       "      <td>43800.000000</td>\n",
       "      <td>43800.000000</td>\n",
       "      <td>43800.000000</td>\n",
       "      <td>43800.000000</td>\n",
       "      <td>43800.000000</td>\n",
       "      <td>43800.000000</td>\n",
       "      <td>43800.000000</td>\n",
       "    </tr>\n",
       "    <tr>\n",
       "      <th>mean</th>\n",
       "      <td>46.809829</td>\n",
       "      <td>70.956621</td>\n",
       "      <td>37.054274</td>\n",
       "      <td>4.012071</td>\n",
       "      <td>6.612864</td>\n",
       "      <td>199.400731</td>\n",
       "      <td>201.359954</td>\n",
       "      <td>7.688954</td>\n",
       "      <td>0.250926</td>\n",
       "    </tr>\n",
       "    <tr>\n",
       "      <th>std</th>\n",
       "      <td>21.561586</td>\n",
       "      <td>16.969744</td>\n",
       "      <td>20.995804</td>\n",
       "      <td>1.887665</td>\n",
       "      <td>2.869876</td>\n",
       "      <td>96.575068</td>\n",
       "      <td>97.207775</td>\n",
       "      <td>3.458954</td>\n",
       "      <td>0.228814</td>\n",
       "    </tr>\n",
       "    <tr>\n",
       "      <th>min</th>\n",
       "      <td>-28.800000</td>\n",
       "      <td>9.000000</td>\n",
       "      <td>-35.600000</td>\n",
       "      <td>0.000000</td>\n",
       "      <td>0.000000</td>\n",
       "      <td>1.000000</td>\n",
       "      <td>1.000000</td>\n",
       "      <td>0.500000</td>\n",
       "      <td>0.000000</td>\n",
       "    </tr>\n",
       "    <tr>\n",
       "      <th>25%</th>\n",
       "      <td>30.300000</td>\n",
       "      <td>59.000000</td>\n",
       "      <td>21.900000</td>\n",
       "      <td>2.550000</td>\n",
       "      <td>4.580000</td>\n",
       "      <td>129.000000</td>\n",
       "      <td>130.000000</td>\n",
       "      <td>5.000000</td>\n",
       "      <td>0.066700</td>\n",
       "    </tr>\n",
       "    <tr>\n",
       "      <th>50%</th>\n",
       "      <td>47.100000</td>\n",
       "      <td>73.000000</td>\n",
       "      <td>37.100000</td>\n",
       "      <td>3.750000</td>\n",
       "      <td>6.500000</td>\n",
       "      <td>207.000000</td>\n",
       "      <td>211.000000</td>\n",
       "      <td>7.300000</td>\n",
       "      <td>0.184700</td>\n",
       "    </tr>\n",
       "    <tr>\n",
       "      <th>75%</th>\n",
       "      <td>65.400000</td>\n",
       "      <td>85.000000</td>\n",
       "      <td>55.300000</td>\n",
       "      <td>5.210000</td>\n",
       "      <td>8.440000</td>\n",
       "      <td>284.000000</td>\n",
       "      <td>286.000000</td>\n",
       "      <td>9.900000</td>\n",
       "      <td>0.371825</td>\n",
       "    </tr>\n",
       "    <tr>\n",
       "      <th>max</th>\n",
       "      <td>93.800000</td>\n",
       "      <td>100.000000</td>\n",
       "      <td>77.900000</td>\n",
       "      <td>14.260000</td>\n",
       "      <td>21.750000</td>\n",
       "      <td>360.000000</td>\n",
       "      <td>360.000000</td>\n",
       "      <td>26.400000</td>\n",
       "      <td>0.988800</td>\n",
       "    </tr>\n",
       "  </tbody>\n",
       "</table>\n",
       "</div>"
      ],
      "text/plain": [
       "       temperature_2m  relativehumidity_2m   dewpoint_2m  windspeed_10m  \\\n",
       "count    43800.000000         43800.000000  43800.000000   43800.000000   \n",
       "mean        46.809829            70.956621     37.054274       4.012071   \n",
       "std         21.561586            16.969744     20.995804       1.887665   \n",
       "min        -28.800000             9.000000    -35.600000       0.000000   \n",
       "25%         30.300000            59.000000     21.900000       2.550000   \n",
       "50%         47.100000            73.000000     37.100000       3.750000   \n",
       "75%         65.400000            85.000000     55.300000       5.210000   \n",
       "max         93.800000           100.000000     77.900000      14.260000   \n",
       "\n",
       "       windspeed_100m  winddirection_10m  winddirection_100m  windgusts_10m  \\\n",
       "count    43800.000000       43800.000000        43800.000000   43800.000000   \n",
       "mean         6.612864         199.400731          201.359954       7.688954   \n",
       "std          2.869876          96.575068           97.207775       3.458954   \n",
       "min          0.000000           1.000000            1.000000       0.500000   \n",
       "25%          4.580000         129.000000          130.000000       5.000000   \n",
       "50%          6.500000         207.000000          211.000000       7.300000   \n",
       "75%          8.440000         284.000000          286.000000       9.900000   \n",
       "max         21.750000         360.000000          360.000000      26.400000   \n",
       "\n",
       "              Power  \n",
       "count  43800.000000  \n",
       "mean       0.250926  \n",
       "std        0.228814  \n",
       "min        0.000000  \n",
       "25%        0.066700  \n",
       "50%        0.184700  \n",
       "75%        0.371825  \n",
       "max        0.988800  "
      ]
     },
     "execution_count": 442,
     "metadata": {},
     "output_type": "execute_result"
    }
   ],
   "source": [
    "df4.describe()"
   ]
  },
  {
   "cell_type": "code",
   "execution_count": 443,
   "id": "e01ed38d",
   "metadata": {},
   "outputs": [
    {
     "data": {
      "text/html": [
       "<div>\n",
       "<style scoped>\n",
       "    .dataframe tbody tr th:only-of-type {\n",
       "        vertical-align: middle;\n",
       "    }\n",
       "\n",
       "    .dataframe tbody tr th {\n",
       "        vertical-align: top;\n",
       "    }\n",
       "\n",
       "    .dataframe thead th {\n",
       "        text-align: right;\n",
       "    }\n",
       "</style>\n",
       "<table border=\"1\" class=\"dataframe\">\n",
       "  <thead>\n",
       "    <tr style=\"text-align: right;\">\n",
       "      <th></th>\n",
       "      <th>temperature_2m</th>\n",
       "      <th>relativehumidity_2m</th>\n",
       "      <th>dewpoint_2m</th>\n",
       "      <th>windspeed_10m</th>\n",
       "      <th>windspeed_100m</th>\n",
       "      <th>winddirection_10m</th>\n",
       "      <th>winddirection_100m</th>\n",
       "      <th>windgusts_10m</th>\n",
       "      <th>Power</th>\n",
       "    </tr>\n",
       "  </thead>\n",
       "  <tbody>\n",
       "    <tr>\n",
       "      <th>count</th>\n",
       "      <td>175200.000000</td>\n",
       "      <td>175200.000000</td>\n",
       "      <td>175200.000000</td>\n",
       "      <td>175200.000000</td>\n",
       "      <td>175200.000000</td>\n",
       "      <td>175200.000000</td>\n",
       "      <td>175200.000000</td>\n",
       "      <td>175200.000000</td>\n",
       "      <td>175200.000000</td>\n",
       "    </tr>\n",
       "    <tr>\n",
       "      <th>mean</th>\n",
       "      <td>46.655994</td>\n",
       "      <td>70.155291</td>\n",
       "      <td>36.516241</td>\n",
       "      <td>4.157639</td>\n",
       "      <td>6.879334</td>\n",
       "      <td>201.589446</td>\n",
       "      <td>201.539070</td>\n",
       "      <td>8.038205</td>\n",
       "      <td>0.303429</td>\n",
       "    </tr>\n",
       "    <tr>\n",
       "      <th>std</th>\n",
       "      <td>22.012738</td>\n",
       "      <td>17.326678</td>\n",
       "      <td>20.933153</td>\n",
       "      <td>2.012682</td>\n",
       "      <td>3.043964</td>\n",
       "      <td>99.639040</td>\n",
       "      <td>100.683777</td>\n",
       "      <td>3.617488</td>\n",
       "      <td>0.257325</td>\n",
       "    </tr>\n",
       "    <tr>\n",
       "      <th>min</th>\n",
       "      <td>-31.200000</td>\n",
       "      <td>9.000000</td>\n",
       "      <td>-36.200000</td>\n",
       "      <td>0.000000</td>\n",
       "      <td>0.000000</td>\n",
       "      <td>1.000000</td>\n",
       "      <td>0.000000</td>\n",
       "      <td>0.500000</td>\n",
       "      <td>0.000000</td>\n",
       "    </tr>\n",
       "    <tr>\n",
       "      <th>25%</th>\n",
       "      <td>30.200000</td>\n",
       "      <td>57.000000</td>\n",
       "      <td>21.900000</td>\n",
       "      <td>2.630000</td>\n",
       "      <td>4.700000</td>\n",
       "      <td>130.000000</td>\n",
       "      <td>129.000000</td>\n",
       "      <td>5.300000</td>\n",
       "      <td>0.087700</td>\n",
       "    </tr>\n",
       "    <tr>\n",
       "      <th>50%</th>\n",
       "      <td>46.900000</td>\n",
       "      <td>72.000000</td>\n",
       "      <td>36.200000</td>\n",
       "      <td>3.850000</td>\n",
       "      <td>6.680000</td>\n",
       "      <td>211.000000</td>\n",
       "      <td>211.000000</td>\n",
       "      <td>7.600000</td>\n",
       "      <td>0.233100</td>\n",
       "    </tr>\n",
       "    <tr>\n",
       "      <th>75%</th>\n",
       "      <td>65.300000</td>\n",
       "      <td>84.000000</td>\n",
       "      <td>54.600000</td>\n",
       "      <td>5.380000</td>\n",
       "      <td>8.800000</td>\n",
       "      <td>288.000000</td>\n",
       "      <td>290.000000</td>\n",
       "      <td>10.300000</td>\n",
       "      <td>0.474200</td>\n",
       "    </tr>\n",
       "    <tr>\n",
       "      <th>max</th>\n",
       "      <td>101.700000</td>\n",
       "      <td>100.000000</td>\n",
       "      <td>78.700000</td>\n",
       "      <td>18.530000</td>\n",
       "      <td>24.590000</td>\n",
       "      <td>360.000000</td>\n",
       "      <td>360.000000</td>\n",
       "      <td>29.200000</td>\n",
       "      <td>0.999400</td>\n",
       "    </tr>\n",
       "  </tbody>\n",
       "</table>\n",
       "</div>"
      ],
      "text/plain": [
       "       temperature_2m  relativehumidity_2m    dewpoint_2m  windspeed_10m  \\\n",
       "count   175200.000000        175200.000000  175200.000000  175200.000000   \n",
       "mean        46.655994            70.155291      36.516241       4.157639   \n",
       "std         22.012738            17.326678      20.933153       2.012682   \n",
       "min        -31.200000             9.000000     -36.200000       0.000000   \n",
       "25%         30.200000            57.000000      21.900000       2.630000   \n",
       "50%         46.900000            72.000000      36.200000       3.850000   \n",
       "75%         65.300000            84.000000      54.600000       5.380000   \n",
       "max        101.700000           100.000000      78.700000      18.530000   \n",
       "\n",
       "       windspeed_100m  winddirection_10m  winddirection_100m  windgusts_10m  \\\n",
       "count   175200.000000      175200.000000       175200.000000  175200.000000   \n",
       "mean         6.879334         201.589446          201.539070       8.038205   \n",
       "std          3.043964          99.639040          100.683777       3.617488   \n",
       "min          0.000000           1.000000            0.000000       0.500000   \n",
       "25%          4.700000         130.000000          129.000000       5.300000   \n",
       "50%          6.680000         211.000000          211.000000       7.600000   \n",
       "75%          8.800000         288.000000          290.000000      10.300000   \n",
       "max         24.590000         360.000000          360.000000      29.200000   \n",
       "\n",
       "               Power  \n",
       "count  175200.000000  \n",
       "mean        0.303429  \n",
       "std         0.257325  \n",
       "min         0.000000  \n",
       "25%         0.087700  \n",
       "50%         0.233100  \n",
       "75%         0.474200  \n",
       "max         0.999400  "
      ]
     },
     "execution_count": 443,
     "metadata": {},
     "output_type": "execute_result"
    }
   ],
   "source": [
    "updated_df.describe()"
   ]
  },
  {
   "cell_type": "code",
   "execution_count": 444,
   "id": "5c0326a1",
   "metadata": {},
   "outputs": [
    {
     "data": {
      "text/plain": [
       "Time                   0\n",
       "temperature_2m         0\n",
       "relativehumidity_2m    0\n",
       "dewpoint_2m            0\n",
       "windspeed_10m          0\n",
       "windspeed_100m         0\n",
       "winddirection_10m      0\n",
       "winddirection_100m     0\n",
       "windgusts_10m          0\n",
       "Power                  0\n",
       "dtype: int64"
      ]
     },
     "execution_count": 444,
     "metadata": {},
     "output_type": "execute_result"
    }
   ],
   "source": [
    "updated_df.isnull().sum()"
   ]
  },
  {
   "cell_type": "code",
   "execution_count": 445,
   "id": "e6e7c197",
   "metadata": {},
   "outputs": [
    {
     "data": {
      "text/plain": [
       "np.int64(0)"
      ]
     },
     "execution_count": 445,
     "metadata": {},
     "output_type": "execute_result"
    }
   ],
   "source": [
    "updated_df.duplicated().sum()"
   ]
  },
  {
   "cell_type": "code",
   "execution_count": 446,
   "id": "403f7ec3",
   "metadata": {},
   "outputs": [
    {
     "data": {
      "text/plain": [
       "count    175200.000000\n",
       "mean         46.655994\n",
       "std          22.012738\n",
       "min         -31.200000\n",
       "25%          30.200000\n",
       "50%          46.900000\n",
       "75%          65.300000\n",
       "max         101.700000\n",
       "Name: temperature_2m, dtype: float64"
      ]
     },
     "execution_count": 446,
     "metadata": {},
     "output_type": "execute_result"
    }
   ],
   "source": [
    "updated_df['temperature_2m'].describe()"
   ]
  },
  {
   "cell_type": "code",
   "execution_count": 447,
   "id": "9e0b839c",
   "metadata": {},
   "outputs": [
    {
     "name": "stdout",
     "output_type": "stream",
     "text": [
      "Numeric columns: Index(['temperature_2m', 'relativehumidity_2m', 'dewpoint_2m', 'windspeed_10m',\n",
      "       'windspeed_100m', 'winddirection_10m', 'winddirection_100m',\n",
      "       'windgusts_10m', 'Power'],\n",
      "      dtype='object')\n"
     ]
    }
   ],
   "source": [
    "numeric_cols = updated_df.select_dtypes(include=[np.number]).columns\n",
    "print(\"Numeric columns:\", numeric_cols)\n"
   ]
  },
  {
   "cell_type": "code",
   "execution_count": 448,
   "id": "35e6e6fb",
   "metadata": {},
   "outputs": [
    {
     "data": {
      "text/plain": [
       "<Axes: ylabel='temperature_2m'>"
      ]
     },
     "execution_count": 448,
     "metadata": {},
     "output_type": "execute_result"
    },
    {
     "data": {
      "image/png": "[encoded data removed]",
      "text/plain": [
       "<Figure size 640x480 with 1 Axes>"
      ]
     },
     "metadata": {},
     "output_type": "display_data"
    }
   ],
   "source": [
    "sns.boxplot(updated_df['temperature_2m'])"
   ]
  },
  {
   "cell_type": "code",
   "execution_count": 449,
   "id": "7205dfaf",
   "metadata": {},
   "outputs": [
    {
     "data": {
      "text/plain": [
       "count    175200.000000\n",
       "mean         70.155291\n",
       "std          17.326678\n",
       "min           9.000000\n",
       "25%          57.000000\n",
       "50%          72.000000\n",
       "75%          84.000000\n",
       "max         100.000000\n",
       "Name: relativehumidity_2m, dtype: float64"
      ]
     },
     "execution_count": 449,
     "metadata": {},
     "output_type": "execute_result"
    }
   ],
   "source": [
    "updated_df['relativehumidity_2m'].describe()"
   ]
  },
  {
   "cell_type": "code",
   "execution_count": 450,
   "id": "b16ea4d8",
   "metadata": {},
   "outputs": [
    {
     "data": {
      "text/plain": [
       "<Axes: ylabel='relativehumidity_2m'>"
      ]
     },
     "execution_count": 450,
     "metadata": {},
     "output_type": "execute_result"
    },
    {
     "data": {
      "image/png": "[encoded data removed]",
      "text/plain": [
       "<Figure size 640x480 with 1 Axes>"
      ]
     },
     "metadata": {},
     "output_type": "display_data"
    }
   ],
   "source": [
    "sns.boxplot(updated_df['relativehumidity_2m'])"
   ]
  },
  {
   "cell_type": "code",
   "execution_count": 451,
   "id": "c5ee676e",
   "metadata": {},
   "outputs": [
    {
     "data": {
      "text/plain": [
       "count    175200.000000\n",
       "mean         36.516241\n",
       "std          20.933153\n",
       "min         -36.200000\n",
       "25%          21.900000\n",
       "50%          36.200000\n",
       "75%          54.600000\n",
       "max          78.700000\n",
       "Name: dewpoint_2m, dtype: float64"
      ]
     },
     "execution_count": 451,
     "metadata": {},
     "output_type": "execute_result"
    }
   ],
   "source": [
    "updated_df['dewpoint_2m'].describe()"
   ]
  },
  {
   "cell_type": "code",
   "execution_count": 452,
   "id": "fee6ed6e",
   "metadata": {},
   "outputs": [
    {
     "data": {
      "text/plain": [
       "<Axes: ylabel='dewpoint_2m'>"
      ]
     },
     "execution_count": 452,
     "metadata": {},
     "output_type": "execute_result"
    },
    {
     "data": {
      "image/png": "[encoded data removed]",
      "text/plain": [
       "<Figure size 640x480 with 1 Axes>"
      ]
     },
     "metadata": {},
     "output_type": "display_data"
    }
   ],
   "source": [
    "sns.boxplot(updated_df['dewpoint_2m'])"
   ]
  },
  {
   "cell_type": "code",
   "execution_count": 453,
   "id": "eac06018",
   "metadata": {},
   "outputs": [
    {
     "data": {
      "text/plain": [
       "count    175200.000000\n",
       "mean          4.157639\n",
       "std           2.012682\n",
       "min           0.000000\n",
       "25%           2.630000\n",
       "50%           3.850000\n",
       "75%           5.380000\n",
       "max          18.530000\n",
       "Name: windspeed_10m, dtype: float64"
      ]
     },
     "execution_count": 453,
     "metadata": {},
     "output_type": "execute_result"
    }
   ],
   "source": [
    "updated_df['windspeed_10m'].describe()"
   ]
  },
  {
   "cell_type": "code",
   "execution_count": 454,
   "id": "d45fb32a",
   "metadata": {},
   "outputs": [
    {
     "data": {
      "text/plain": [
       "<Axes: ylabel='windspeed_10m'>"
      ]
     },
     "execution_count": 454,
     "metadata": {},
     "output_type": "execute_result"
    },
    {
     "data": {
      "image/png": "[encoded data removed]",
      "text/plain": [
       "<Figure size 640x480 with 1 Axes>"
      ]
     },
     "metadata": {},
     "output_type": "display_data"
    }
   ],
   "source": [
    "sns.boxplot(updated_df['windspeed_10m'])"
   ]
  },
  {
   "cell_type": "code",
   "execution_count": 455,
   "id": "391c9064",
   "metadata": {},
   "outputs": [
    {
     "data": {
      "text/plain": [
       "count    175200.000000\n",
       "mean          6.879334\n",
       "std           3.043964\n",
       "min           0.000000\n",
       "25%           4.700000\n",
       "50%           6.680000\n",
       "75%           8.800000\n",
       "max          24.590000\n",
       "Name: windspeed_100m, dtype: float64"
      ]
     },
     "execution_count": 455,
     "metadata": {},
     "output_type": "execute_result"
    }
   ],
   "source": [
    "updated_df['windspeed_100m'].describe()"
   ]
  },
  {
   "cell_type": "code",
   "execution_count": 456,
   "id": "4deba8e2",
   "metadata": {},
   "outputs": [
    {
     "data": {
      "text/plain": [
       "<Axes: ylabel='windspeed_100m'>"
      ]
     },
     "execution_count": 456,
     "metadata": {},
     "output_type": "execute_result"
    },
    {
     "data": {
      "image/png": "[encoded data removed]",
      "text/plain": [
       "<Figure size 640x480 with 1 Axes>"
      ]
     },
     "metadata": {},
     "output_type": "display_data"
    }
   ],
   "source": [
    "sns.boxplot(updated_df['windspeed_100m'])"
   ]
  },
  {
   "cell_type": "code",
   "execution_count": 457,
   "id": "55277b2a",
   "metadata": {},
   "outputs": [
    {
     "data": {
      "text/plain": [
       "count    175200.000000\n",
       "mean        201.589446\n",
       "std          99.639040\n",
       "min           1.000000\n",
       "25%         130.000000\n",
       "50%         211.000000\n",
       "75%         288.000000\n",
       "max         360.000000\n",
       "Name: winddirection_10m, dtype: float64"
      ]
     },
     "execution_count": 457,
     "metadata": {},
     "output_type": "execute_result"
    }
   ],
   "source": [
    "updated_df['winddirection_10m'].describe()"
   ]
  },
  {
   "cell_type": "code",
   "execution_count": 458,
   "id": "e4252ab2",
   "metadata": {},
   "outputs": [
    {
     "data": {
      "text/plain": [
       "<Axes: ylabel='winddirection_10m'>"
      ]
     },
     "execution_count": 458,
     "metadata": {},
     "output_type": "execute_result"
    },
    {
     "data": {
      "image/png": "[encoded data removed]",
      "text/plain": [
       "<Figure size 640x480 with 1 Axes>"
      ]
     },
     "metadata": {},
     "output_type": "display_data"
    }
   ],
   "source": [
    "sns.boxplot(updated_df['winddirection_10m'])"
   ]
  },
  {
   "cell_type": "code",
   "execution_count": 459,
   "id": "9585aa0a",
   "metadata": {},
   "outputs": [
    {
     "data": {
      "text/plain": [
       "count    175200.000000\n",
       "mean        201.539070\n",
       "std         100.683777\n",
       "min           0.000000\n",
       "25%         129.000000\n",
       "50%         211.000000\n",
       "75%         290.000000\n",
       "max         360.000000\n",
       "Name: winddirection_100m, dtype: float64"
      ]
     },
     "execution_count": 459,
     "metadata": {},
     "output_type": "execute_result"
    }
   ],
   "source": [
    "updated_df['winddirection_100m'].describe()"
   ]
  },
  {
   "cell_type": "code",
   "execution_count": 460,
   "id": "895af999",
   "metadata": {},
   "outputs": [
    {
     "data": {
      "text/plain": [
       "<Axes: ylabel='winddirection_100m'>"
      ]
     },
     "execution_count": 460,
     "metadata": {},
     "output_type": "execute_result"
    },
    {
     "data": {
      "image/png": "[encoded data removed]",
      "text/plain": [
       "<Figure size 640x480 with 1 Axes>"
      ]
     },
     "metadata": {},
     "output_type": "display_data"
    }
   ],
   "source": [
    "sns.boxplot(updated_df['winddirection_100m'])"
   ]
  },
  {
   "cell_type": "code",
   "execution_count": 461,
   "id": "1439c14f",
   "metadata": {},
   "outputs": [
    {
     "data": {
      "text/plain": [
       "count    175200.000000\n",
       "mean          8.038205\n",
       "std           3.617488\n",
       "min           0.500000\n",
       "25%           5.300000\n",
       "50%           7.600000\n",
       "75%          10.300000\n",
       "max          29.200000\n",
       "Name: windgusts_10m, dtype: float64"
      ]
     },
     "execution_count": 461,
     "metadata": {},
     "output_type": "execute_result"
    }
   ],
   "source": [
    "updated_df['windgusts_10m'].describe()"
   ]
  },
  {
   "cell_type": "code",
   "execution_count": 462,
   "id": "720f1b6f",
   "metadata": {},
   "outputs": [
    {
     "data": {
      "text/plain": [
       "<Axes: ylabel='windgusts_10m'>"
      ]
     },
     "execution_count": 462,
     "metadata": {},
     "output_type": "execute_result"
    },
    {
     "data": {
      "image/png": "[encoded data removed]",
      "text/plain": [
       "<Figure size 640x480 with 1 Axes>"
      ]
     },
     "metadata": {},
     "output_type": "display_data"
    }
   ],
   "source": [
    "sns.boxplot(updated_df['windgusts_10m'])"
   ]
  },
  {
   "cell_type": "code",
   "execution_count": 463,
   "id": "1e0585c2",
   "metadata": {},
   "outputs": [],
   "source": [
    "\n",
    "\n",
    "for col in numeric_cols:\n",
    "    lower_limit = updated_df[col].quantile(0.05)\n",
    "    upper_limit = updated_df[col].quantile(0.95)\n",
    "\n",
    " \n",
    "    updated_df[col] = np.where(updated_df[col] < lower_limit, lower_limit,\n",
    "                       np.where(updated_df[col] > upper_limit, upper_limit, updated_df[col]))"
   ]
  },
  {
   "cell_type": "code",
   "execution_count": 464,
   "id": "b443102a",
   "metadata": {},
   "outputs": [
    {
     "data": {
      "text/plain": [
       "<Axes: ylabel='dewpoint_2m'>"
      ]
     },
     "execution_count": 464,
     "metadata": {},
     "output_type": "execute_result"
    },
    {
     "data": {
      "image/png": "[encoded data removed]",
      "text/plain": [
       "<Figure size 640x480 with 1 Axes>"
      ]
     },
     "metadata": {},
     "output_type": "display_data"
    }
   ],
   "source": [
    "sns.boxplot(updated_df['dewpoint_2m'])"
   ]
  },
  {
   "cell_type": "code",
   "execution_count": 465,
   "id": "1d249bc7",
   "metadata": {},
   "outputs": [
    {
     "data": {
      "text/plain": [
       "<Axes: ylabel='relativehumidity_2m'>"
      ]
     },
     "execution_count": 465,
     "metadata": {},
     "output_type": "execute_result"
    },
    {
     "data": {
      "image/png": "[encoded data removed]",
      "text/plain": [
       "<Figure size 640x480 with 1 Axes>"
      ]
     },
     "metadata": {},
     "output_type": "display_data"
    }
   ],
   "source": [
    "sns.boxplot(updated_df['relativehumidity_2m'])"
   ]
  },
  {
   "cell_type": "code",
   "execution_count": 466,
   "id": "e6652727",
   "metadata": {},
   "outputs": [
    {
     "data": {
      "text/plain": [
       "<Axes: ylabel='dewpoint_2m'>"
      ]
     },
     "execution_count": 466,
     "metadata": {},
     "output_type": "execute_result"
    },
    {
     "data": {
      "image/png": "[encoded data removed]",
      "text/plain": [
       "<Figure size 640x480 with 1 Axes>"
      ]
     },
     "metadata": {},
     "output_type": "display_data"
    }
   ],
   "source": [
    "sns.boxplot(updated_df['dewpoint_2m'])"
   ]
  },
  {
   "cell_type": "code",
   "execution_count": 467,
   "id": "01f9cb60",
   "metadata": {},
   "outputs": [
    {
     "data": {
      "text/plain": [
       "<Axes: ylabel='windspeed_10m'>"
      ]
     },
     "execution_count": 467,
     "metadata": {},
     "output_type": "execute_result"
    },
    {
     "data": {
      "image/png": "[encoded data removed]",
      "text/plain": [
       "<Figure size 640x480 with 1 Axes>"
      ]
     },
     "metadata": {},
     "output_type": "display_data"
    }
   ],
   "source": [
    "sns.boxplot(updated_df['windspeed_10m'])"
   ]
  },
  {
   "cell_type": "code",
   "execution_count": 468,
   "id": "a65ccceb",
   "metadata": {},
   "outputs": [
    {
     "data": {
      "text/plain": [
       "<Axes: ylabel='windspeed_100m'>"
      ]
     },
     "execution_count": 468,
     "metadata": {},
     "output_type": "execute_result"
    },
    {
     "data": {
      "image/png": "[encoded data removed]",
      "text/plain": [
       "<Figure size 640x480 with 1 Axes>"
      ]
     },
     "metadata": {},
     "output_type": "display_data"
    }
   ],
   "source": [
    "sns.boxplot(updated_df['windspeed_100m'])"
   ]
  },
  {
   "cell_type": "code",
   "execution_count": 469,
   "id": "06d30ef0",
   "metadata": {},
   "outputs": [
    {
     "data": {
      "text/plain": [
       "<Axes: ylabel='winddirection_10m'>"
      ]
     },
     "execution_count": 469,
     "metadata": {},
     "output_type": "execute_result"
    },
    {
     "data": {
      "image/png": "[encoded data removed]",
      "text/plain": [
       "<Figure size 640x480 with 1 Axes>"
      ]
     },
     "metadata": {},
     "output_type": "display_data"
    }
   ],
   "source": [
    "sns.boxplot(updated_df['winddirection_10m'])"
   ]
  },
  {
   "cell_type": "code",
   "execution_count": 470,
   "id": "56052b6a",
   "metadata": {},
   "outputs": [
    {
     "data": {
      "text/plain": [
       "<Axes: ylabel='winddirection_100m'>"
      ]
     },
     "execution_count": 470,
     "metadata": {},
     "output_type": "execute_result"
    },
    {
     "data": {
      "image/png": "[encoded data removed]",
      "text/plain": [
       "<Figure size 640x480 with 1 Axes>"
      ]
     },
     "metadata": {},
     "output_type": "display_data"
    }
   ],
   "source": [
    "sns.boxplot(updated_df['winddirection_100m'])"
   ]
  },
  {
   "cell_type": "code",
   "execution_count": 471,
   "id": "d02be5b7",
   "metadata": {},
   "outputs": [
    {
     "data": {
      "text/plain": [
       "<Axes: ylabel='windgusts_10m'>"
      ]
     },
     "execution_count": 471,
     "metadata": {},
     "output_type": "execute_result"
    },
    {
     "data": {
      "image/png": "[encoded data removed]",
      "text/plain": [
       "<Figure size 640x480 with 1 Axes>"
      ]
     },
     "metadata": {},
     "output_type": "display_data"
    }
   ],
   "source": [
    "sns.boxplot(updated_df['windgusts_10m'])"
   ]
  },
  {
   "cell_type": "code",
   "execution_count": 472,
   "id": "757ae8f9",
   "metadata": {},
   "outputs": [],
   "source": [
    "num_cols = ['temperature_2m','relativehumidity_2m','dewpoint_2m',\n",
    "            'windspeed_10m','windspeed_100m','winddirection_10m',\n",
    "            'winddirection_100m','windgusts_10m','Power']\n"
   ]
  },
  {
   "cell_type": "code",
   "execution_count": 473,
   "id": "052ba4f6",
   "metadata": {},
   "outputs": [],
   "source": [
    "from sklearn.preprocessing import StandardScaler\n",
    "\n",
    "scaler = StandardScaler()\n",
    "updated_df[num_cols] = scaler.fit_transform(updated_df[num_cols])\n"
   ]
  },
  {
   "cell_type": "code",
   "execution_count": 474,
   "id": "9eca48e7",
   "metadata": {},
   "outputs": [
    {
     "data": {
      "text/html": [
       "<div>\n",
       "<style scoped>\n",
       "    .dataframe tbody tr th:only-of-type {\n",
       "        vertical-align: middle;\n",
       "    }\n",
       "\n",
       "    .dataframe tbody tr th {\n",
       "        vertical-align: top;\n",
       "    }\n",
       "\n",
       "    .dataframe thead th {\n",
       "        text-align: right;\n",
       "    }\n",
       "</style>\n",
       "<table border=\"1\" class=\"dataframe\">\n",
       "  <thead>\n",
       "    <tr style=\"text-align: right;\">\n",
       "      <th></th>\n",
       "      <th>temperature_2m</th>\n",
       "      <th>relativehumidity_2m</th>\n",
       "      <th>dewpoint_2m</th>\n",
       "      <th>windspeed_10m</th>\n",
       "      <th>windspeed_100m</th>\n",
       "      <th>winddirection_10m</th>\n",
       "      <th>winddirection_100m</th>\n",
       "      <th>windgusts_10m</th>\n",
       "      <th>Power</th>\n",
       "      <th>Hour</th>\n",
       "      <th>Month</th>\n",
       "      <th>Day</th>\n",
       "    </tr>\n",
       "  </thead>\n",
       "  <tbody>\n",
       "    <tr>\n",
       "      <th>0</th>\n",
       "      <td>-0.893517</td>\n",
       "      <td>0.885222</td>\n",
       "      <td>-0.624002</td>\n",
       "      <td>-1.452494</td>\n",
       "      <td>-1.662997</td>\n",
       "      <td>-0.568616</td>\n",
       "      <td>-0.399268</td>\n",
       "      <td>-1.501505</td>\n",
       "      <td>-0.548588</td>\n",
       "      <td>0</td>\n",
       "      <td>1</td>\n",
       "      <td>2</td>\n",
       "    </tr>\n",
       "    <tr>\n",
       "      <th>1</th>\n",
       "      <td>-0.898364</td>\n",
       "      <td>0.945766</td>\n",
       "      <td>-0.613880</td>\n",
       "      <td>-1.136859</td>\n",
       "      <td>-1.024371</td>\n",
       "      <td>-0.517560</td>\n",
       "      <td>-0.439627</td>\n",
       "      <td>-1.077518</td>\n",
       "      <td>-0.633649</td>\n",
       "      <td>1</td>\n",
       "      <td>1</td>\n",
       "      <td>2</td>\n",
       "    </tr>\n",
       "    <tr>\n",
       "      <th>2</th>\n",
       "      <td>-0.975919</td>\n",
       "      <td>1.248483</td>\n",
       "      <td>-0.624002</td>\n",
       "      <td>-1.452494</td>\n",
       "      <td>-1.460946</td>\n",
       "      <td>-0.548194</td>\n",
       "      <td>-0.520346</td>\n",
       "      <td>-1.440935</td>\n",
       "      <td>-0.718307</td>\n",
       "      <td>2</td>\n",
       "      <td>1</td>\n",
       "      <td>2</td>\n",
       "    </tr>\n",
       "    <tr>\n",
       "      <th>3</th>\n",
       "      <td>-0.946836</td>\n",
       "      <td>1.066853</td>\n",
       "      <td>-0.634125</td>\n",
       "      <td>-1.452494</td>\n",
       "      <td>-1.493418</td>\n",
       "      <td>-1.467205</td>\n",
       "      <td>-0.974389</td>\n",
       "      <td>-1.501505</td>\n",
       "      <td>-0.803369</td>\n",
       "      <td>3</td>\n",
       "      <td>1</td>\n",
       "      <td>2</td>\n",
       "    </tr>\n",
       "    <tr>\n",
       "      <th>4</th>\n",
       "      <td>-0.951683</td>\n",
       "      <td>1.066853</td>\n",
       "      <td>-0.644247</td>\n",
       "      <td>-0.909823</td>\n",
       "      <td>-0.865616</td>\n",
       "      <td>-1.467205</td>\n",
       "      <td>-1.186276</td>\n",
       "      <td>-1.198657</td>\n",
       "      <td>-0.888027</td>\n",
       "      <td>4</td>\n",
       "      <td>1</td>\n",
       "      <td>2</td>\n",
       "    </tr>\n",
       "    <tr>\n",
       "      <th>...</th>\n",
       "      <td>...</td>\n",
       "      <td>...</td>\n",
       "      <td>...</td>\n",
       "      <td>...</td>\n",
       "      <td>...</td>\n",
       "      <td>...</td>\n",
       "      <td>...</td>\n",
       "      <td>...</td>\n",
       "      <td>...</td>\n",
       "      <td>...</td>\n",
       "      <td>...</td>\n",
       "      <td>...</td>\n",
       "    </tr>\n",
       "    <tr>\n",
       "      <th>175195</th>\n",
       "      <td>-1.038931</td>\n",
       "      <td>1.430114</td>\n",
       "      <td>-0.649309</td>\n",
       "      <td>-0.057056</td>\n",
       "      <td>-0.061019</td>\n",
       "      <td>-1.834809</td>\n",
       "      <td>-1.832026</td>\n",
       "      <td>0.073303</td>\n",
       "      <td>0.169797</td>\n",
       "      <td>19</td>\n",
       "      <td>12</td>\n",
       "      <td>31</td>\n",
       "    </tr>\n",
       "    <tr>\n",
       "      <th>175196</th>\n",
       "      <td>-1.048626</td>\n",
       "      <td>1.309027</td>\n",
       "      <td>-0.689799</td>\n",
       "      <td>0.325028</td>\n",
       "      <td>0.249273</td>\n",
       "      <td>-1.834809</td>\n",
       "      <td>-1.832026</td>\n",
       "      <td>-0.017552</td>\n",
       "      <td>0.139562</td>\n",
       "      <td>20</td>\n",
       "      <td>12</td>\n",
       "      <td>31</td>\n",
       "    </tr>\n",
       "    <tr>\n",
       "      <th>175197</th>\n",
       "      <td>-1.068014</td>\n",
       "      <td>1.187940</td>\n",
       "      <td>-0.725228</td>\n",
       "      <td>0.275191</td>\n",
       "      <td>0.267314</td>\n",
       "      <td>-1.834809</td>\n",
       "      <td>-1.832026</td>\n",
       "      <td>-0.017552</td>\n",
       "      <td>0.109327</td>\n",
       "      <td>21</td>\n",
       "      <td>12</td>\n",
       "      <td>31</td>\n",
       "    </tr>\n",
       "    <tr>\n",
       "      <th>175198</th>\n",
       "      <td>-1.068014</td>\n",
       "      <td>1.127396</td>\n",
       "      <td>-0.745473</td>\n",
       "      <td>0.269654</td>\n",
       "      <td>0.220409</td>\n",
       "      <td>-1.834809</td>\n",
       "      <td>-1.832026</td>\n",
       "      <td>-0.047836</td>\n",
       "      <td>0.079092</td>\n",
       "      <td>22</td>\n",
       "      <td>12</td>\n",
       "      <td>31</td>\n",
       "    </tr>\n",
       "    <tr>\n",
       "      <th>175199</th>\n",
       "      <td>-1.068014</td>\n",
       "      <td>1.066853</td>\n",
       "      <td>-0.760657</td>\n",
       "      <td>0.297341</td>\n",
       "      <td>0.339475</td>\n",
       "      <td>-1.834809</td>\n",
       "      <td>-1.832026</td>\n",
       "      <td>-0.047836</td>\n",
       "      <td>0.048857</td>\n",
       "      <td>23</td>\n",
       "      <td>12</td>\n",
       "      <td>31</td>\n",
       "    </tr>\n",
       "  </tbody>\n",
       "</table>\n",
       "<p>175200 rows × 12 columns</p>\n",
       "</div>"
      ],
      "text/plain": [
       "        temperature_2m  relativehumidity_2m  dewpoint_2m  windspeed_10m  \\\n",
       "0            -0.893517             0.885222    -0.624002      -1.452494   \n",
       "1            -0.898364             0.945766    -0.613880      -1.136859   \n",
       "2            -0.975919             1.248483    -0.624002      -1.452494   \n",
       "3            -0.946836             1.066853    -0.634125      -1.452494   \n",
       "4            -0.951683             1.066853    -0.644247      -0.909823   \n",
       "...                ...                  ...          ...            ...   \n",
       "175195       -1.038931             1.430114    -0.649309      -0.057056   \n",
       "175196       -1.048626             1.309027    -0.689799       0.325028   \n",
       "175197       -1.068014             1.187940    -0.725228       0.275191   \n",
       "175198       -1.068014             1.127396    -0.745473       0.269654   \n",
       "175199       -1.068014             1.066853    -0.760657       0.297341   \n",
       "\n",
       "        windspeed_100m  winddirection_10m  winddirection_100m  windgusts_10m  \\\n",
       "0            -1.662997          -0.568616           -0.399268      -1.501505   \n",
       "1            -1.024371          -0.517560           -0.439627      -1.077518   \n",
       "2            -1.460946          -0.548194           -0.520346      -1.440935   \n",
       "3            -1.493418          -1.467205           -0.974389      -1.501505   \n",
       "4            -0.865616          -1.467205           -1.186276      -1.198657   \n",
       "...                ...                ...                 ...            ...   \n",
       "175195       -0.061019          -1.834809           -1.832026       0.073303   \n",
       "175196        0.249273          -1.834809           -1.832026      -0.017552   \n",
       "175197        0.267314          -1.834809           -1.832026      -0.017552   \n",
       "175198        0.220409          -1.834809           -1.832026      -0.047836   \n",
       "175199        0.339475          -1.834809           -1.832026      -0.047836   \n",
       "\n",
       "           Power  Hour  Month  Day  \n",
       "0      -0.548588     0      1    2  \n",
       "1      -0.633649     1      1    2  \n",
       "2      -0.718307     2      1    2  \n",
       "3      -0.803369     3      1    2  \n",
       "4      -0.888027     4      1    2  \n",
       "...          ...   ...    ...  ...  \n",
       "175195  0.169797    19     12   31  \n",
       "175196  0.139562    20     12   31  \n",
       "175197  0.109327    21     12   31  \n",
       "175198  0.079092    22     12   31  \n",
       "175199  0.048857    23     12   31  \n",
       "\n",
       "[175200 rows x 12 columns]"
      ]
     },
     "execution_count": 474,
     "metadata": {},
     "output_type": "execute_result"
    }
   ],
   "source": [
    "updated_df['Time'] = pd.to_datetime(updated_df['Time'])\n",
    "updated_df['Hour'] = updated_df['Time'].dt.hour\n",
    "updated_df['Month'] = updated_df['Time'].dt.month\n",
    "updated_df['Day'] = updated_df['Time'].dt.day\n",
    "updated_df.drop('Time', axis=1)\n"
   ]
  },
  {
   "cell_type": "code",
   "execution_count": 475,
   "id": "13f13978",
   "metadata": {},
   "outputs": [
    {
     "data": {
      "image/png": "[encoded data removed]",
      "text/plain": [
       "<Figure size 1200x800 with 16 Axes>"
      ]
     },
     "metadata": {},
     "output_type": "display_data"
    }
   ],
   "source": [
    "updated_df.hist(figsize=(12,8), bins=30)\n",
    "plt.show()"
   ]
  },
  {
   "cell_type": "code",
   "execution_count": 476,
   "id": "38b38638",
   "metadata": {},
   "outputs": [
    {
     "data": {
      "image/png": "[encoded data removed]",
      "text/plain": [
       "<Figure size 1000x800 with 2 Axes>"
      ]
     },
     "metadata": {},
     "output_type": "display_data"
    }
   ],
   "source": [
    "plt.figure(figsize=(10,8))\n",
    "sns.heatmap(updated_df.corr(), annot=True, cmap='coolwarm')\n",
    "plt.show()"
   ]
  },
  {
   "cell_type": "code",
   "execution_count": 477,
   "id": "e07813c6",
   "metadata": {},
   "outputs": [
    {
     "name": "stdout",
     "output_type": "stream",
     "text": [
      "Power                  1.000000\n",
      "windspeed_100m         0.639662\n",
      "windspeed_10m          0.582219\n",
      "windgusts_10m          0.575929\n",
      "winddirection_100m     0.140896\n",
      "winddirection_10m      0.132378\n",
      "Day                    0.020483\n",
      "Month                 -0.016593\n",
      "Hour                  -0.027244\n",
      "relativehumidity_2m   -0.032937\n",
      "Time                  -0.116915\n",
      "temperature_2m        -0.150296\n",
      "dewpoint_2m           -0.156620\n",
      "Name: Power, dtype: float64\n"
     ]
    }
   ],
   "source": [
    "corr = updated_df.corr()['Power'].sort_values(ascending=False)\n",
    "print(corr)"
   ]
  },
  {
   "cell_type": "markdown",
   "id": "fe184149",
   "metadata": {},
   "source": [
    "**Insights for ablove table:**"
   ]
  },
  {
   "cell_type": "markdown",
   "id": "5b799d3b",
   "metadata": {},
   "source": [
    "\n",
    "Power increases as WindSpeed increases → strong positive relation.\n",
    " Power decreases when Humidity rises → negative relation.\n",
    " Temperature affects Power moderately."
   ]
  },
  {
   "cell_type": "markdown",
   "id": "8b91c9d6",
   "metadata": {},
   "source": []
  },
  {
   "cell_type": "code",
   "execution_count": 478,
   "id": "ce21b015",
   "metadata": {},
   "outputs": [],
   "source": [
    "updated_df['Time'] = pd.to_datetime(updated_df['Time'], errors='coerce')\n",
    "updated_df['Time_numeric'] = updated_df['Time'].map(pd.Timestamp.timestamp)\n"
   ]
  },
  {
   "cell_type": "code",
   "execution_count": 479,
   "id": "f1395b7f",
   "metadata": {},
   "outputs": [],
   "source": [
    "X = updated_df.drop('Power', axis=1)  \n",
    "y = updated_df['Power']                \n"
   ]
  },
  {
   "cell_type": "code",
   "execution_count": 480,
   "id": "b2cc69cf",
   "metadata": {},
   "outputs": [
    {
     "data": {
      "text/html": [
       "<style>#sk-container-id-1 {\n",
       "  /* Definition of color scheme common for light and dark mode */\n",
       "  --sklearn-color-text: #000;\n",
       "  --sklearn-color-text-muted: #666;\n",
       "  --sklearn-color-line: gray;\n",
       "  /* Definition of color scheme for unfitted estimators */\n",
       "  --sklearn-color-unfitted-level-0: #fff5e6;\n",
       "  --sklearn-color-unfitted-level-1: #f6e4d2;\n",
       "  --sklearn-color-unfitted-level-2: #ffe0b3;\n",
       "  --sklearn-color-unfitted-level-3: chocolate;\n",
       "  /* Definition of color scheme for fitted estimators */\n",
       "  --sklearn-color-fitted-level-0: #f0f8ff;\n",
       "  --sklearn-color-fitted-level-1: #d4ebff;\n",
       "  --sklearn-color-fitted-level-2: #b3dbfd;\n",
       "  --sklearn-color-fitted-level-3: cornflowerblue;\n",
       "\n",
       "  /* Specific color for light theme */\n",
       "  --sklearn-color-text-on-default-background: var(--sg-text-color, var(--theme-code-foreground, var(--jp-content-font-color1, black)));\n",
       "  --sklearn-color-background: var(--sg-background-color, var(--theme-background, var(--jp-layout-color0, white)));\n",
       "  --sklearn-color-border-box: var(--sg-text-color, var(--theme-code-foreground, var(--jp-content-font-color1, black)));\n",
       "  --sklearn-color-icon: #696969;\n",
       "\n",
       "  @media (prefers-color-scheme: dark) {\n",
       "    /* Redefinition of color scheme for dark theme */\n",
       "    --sklearn-color-text-on-default-background: var(--sg-text-color, var(--theme-code-foreground, var(--jp-content-font-color1, white)));\n",
       "    --sklearn-color-background: var(--sg-background-color, var(--theme-background, var(--jp-layout-color0, #111)));\n",
       "    --sklearn-color-border-box: var(--sg-text-color, var(--theme-code-foreground, var(--jp-content-font-color1, white)));\n",
       "    --sklearn-color-icon: #878787;\n",
       "  }\n",
       "}\n",
       "\n",
       "#sk-container-id-1 {\n",
       "  color: var(--sklearn-color-text);\n",
       "}\n",
       "\n",
       "#sk-container-id-1 pre {\n",
       "  padding: 0;\n",
       "}\n",
       "\n",
       "#sk-container-id-1 input.sk-hidden--visually {\n",
       "  border: 0;\n",
       "  clip: rect(1px 1px 1px 1px);\n",
       "  clip: rect(1px, 1px, 1px, 1px);\n",
       "  height: 1px;\n",
       "  margin: -1px;\n",
       "  overflow: hidden;\n",
       "  padding: 0;\n",
       "  position: absolute;\n",
       "  width: 1px;\n",
       "}\n",
       "\n",
       "#sk-container-id-1 div.sk-dashed-wrapped {\n",
       "  border: 1px dashed var(--sklearn-color-line);\n",
       "  margin: 0 0.4em 0.5em 0.4em;\n",
       "  box-sizing: border-box;\n",
       "  padding-bottom: 0.4em;\n",
       "  background-color: var(--sklearn-color-background);\n",
       "}\n",
       "\n",
       "#sk-container-id-1 div.sk-container {\n",
       "  /* jupyter's `normalize.less` sets `[hidden] { display: none; }`\n",
       "     but bootstrap.min.css set `[hidden] { display: none !important; }`\n",
       "     so we also need the `!important` here to be able to override the\n",
       "     default hidden behavior on the sphinx rendered scikit-learn.org.\n",
       "     See: https://github.com/scikit-learn/scikit-learn/issues/21755 */\n",
       "  display: inline-block !important;\n",
       "  position: relative;\n",
       "}\n",
       "\n",
       "#sk-container-id-1 div.sk-text-repr-fallback {\n",
       "  display: none;\n",
       "}\n",
       "\n",
       "div.sk-parallel-item,\n",
       "div.sk-serial,\n",
       "div.sk-item {\n",
       "  /* draw centered vertical line to link estimators */\n",
       "  background-image: linear-gradient(var(--sklearn-color-text-on-default-background), var(--sklearn-color-text-on-default-background));\n",
       "  background-size: 2px 100%;\n",
       "  background-repeat: no-repeat;\n",
       "  background-position: center center;\n",
       "}\n",
       "\n",
       "/* Parallel-specific style estimator block */\n",
       "\n",
       "#sk-container-id-1 div.sk-parallel-item::after {\n",
       "  content: \"\";\n",
       "  width: 100%;\n",
       "  border-bottom: 2px solid var(--sklearn-color-text-on-default-background);\n",
       "  flex-grow: 1;\n",
       "}\n",
       "\n",
       "#sk-container-id-1 div.sk-parallel {\n",
       "  display: flex;\n",
       "  align-items: stretch;\n",
       "  justify-content: center;\n",
       "  background-color: var(--sklearn-color-background);\n",
       "  position: relative;\n",
       "}\n",
       "\n",
       "#sk-container-id-1 div.sk-parallel-item {\n",
       "  display: flex;\n",
       "  flex-direction: column;\n",
       "}\n",
       "\n",
       "#sk-container-id-1 div.sk-parallel-item:first-child::after {\n",
       "  align-self: flex-end;\n",
       "  width: 50%;\n",
       "}\n",
       "\n",
       "#sk-container-id-1 div.sk-parallel-item:last-child::after {\n",
       "  align-self: flex-start;\n",
       "  width: 50%;\n",
       "}\n",
       "\n",
       "#sk-container-id-1 div.sk-parallel-item:only-child::after {\n",
       "  width: 0;\n",
       "}\n",
       "\n",
       "/* Serial-specific style estimator block */\n",
       "\n",
       "#sk-container-id-1 div.sk-serial {\n",
       "  display: flex;\n",
       "  flex-direction: column;\n",
       "  align-items: center;\n",
       "  background-color: var(--sklearn-color-background);\n",
       "  padding-right: 1em;\n",
       "  padding-left: 1em;\n",
       "}\n",
       "\n",
       "\n",
       "/* Toggleable style: style used for estimator/Pipeline/ColumnTransformer box that is\n",
       "clickable and can be expanded/collapsed.\n",
       "- Pipeline and ColumnTransformer use this feature and define the default style\n",
       "- Estimators will overwrite some part of the style using the `sk-estimator` class\n",
       "*/\n",
       "\n",
       "/* Pipeline and ColumnTransformer style (default) */\n",
       "\n",
       "#sk-container-id-1 div.sk-toggleable {\n",
       "  /* Default theme specific background. It is overwritten whether we have a\n",
       "  specific estimator or a Pipeline/ColumnTransformer */\n",
       "  background-color: var(--sklearn-color-background);\n",
       "}\n",
       "\n",
       "/* Toggleable label */\n",
       "#sk-container-id-1 label.sk-toggleable__label {\n",
       "  cursor: pointer;\n",
       "  display: flex;\n",
       "  width: 100%;\n",
       "  margin-bottom: 0;\n",
       "  padding: 0.5em;\n",
       "  box-sizing: border-box;\n",
       "  text-align: center;\n",
       "  align-items: start;\n",
       "  justify-content: space-between;\n",
       "  gap: 0.5em;\n",
       "}\n",
       "\n",
       "#sk-container-id-1 label.sk-toggleable__label .caption {\n",
       "  font-size: 0.6rem;\n",
       "  font-weight: lighter;\n",
       "  color: var(--sklearn-color-text-muted);\n",
       "}\n",
       "\n",
       "#sk-container-id-1 label.sk-toggleable__label-arrow:before {\n",
       "  /* Arrow on the left of the label */\n",
       "  content: \"▸\";\n",
       "  float: left;\n",
       "  margin-right: 0.25em;\n",
       "  color: var(--sklearn-color-icon);\n",
       "}\n",
       "\n",
       "#sk-container-id-1 label.sk-toggleable__label-arrow:hover:before {\n",
       "  color: var(--sklearn-color-text);\n",
       "}\n",
       "\n",
       "/* Toggleable content - dropdown */\n",
       "\n",
       "#sk-container-id-1 div.sk-toggleable__content {\n",
       "  display: none;\n",
       "  text-align: left;\n",
       "  /* unfitted */\n",
       "  background-color: var(--sklearn-color-unfitted-level-0);\n",
       "}\n",
       "\n",
       "#sk-container-id-1 div.sk-toggleable__content.fitted {\n",
       "  /* fitted */\n",
       "  background-color: var(--sklearn-color-fitted-level-0);\n",
       "}\n",
       "\n",
       "#sk-container-id-1 div.sk-toggleable__content pre {\n",
       "  margin: 0.2em;\n",
       "  border-radius: 0.25em;\n",
       "  color: var(--sklearn-color-text);\n",
       "  /* unfitted */\n",
       "  background-color: var(--sklearn-color-unfitted-level-0);\n",
       "}\n",
       "\n",
       "#sk-container-id-1 div.sk-toggleable__content.fitted pre {\n",
       "  /* unfitted */\n",
       "  background-color: var(--sklearn-color-fitted-level-0);\n",
       "}\n",
       "\n",
       "#sk-container-id-1 input.sk-toggleable__control:checked~div.sk-toggleable__content {\n",
       "  /* Expand drop-down */\n",
       "  display: block;\n",
       "  width: 100%;\n",
       "  overflow: visible;\n",
       "}\n",
       "\n",
       "#sk-container-id-1 input.sk-toggleable__control:checked~label.sk-toggleable__label-arrow:before {\n",
       "  content: \"▾\";\n",
       "}\n",
       "\n",
       "/* Pipeline/ColumnTransformer-specific style */\n",
       "\n",
       "#sk-container-id-1 div.sk-label input.sk-toggleable__control:checked~label.sk-toggleable__label {\n",
       "  color: var(--sklearn-color-text);\n",
       "  background-color: var(--sklearn-color-unfitted-level-2);\n",
       "}\n",
       "\n",
       "#sk-container-id-1 div.sk-label.fitted input.sk-toggleable__control:checked~label.sk-toggleable__label {\n",
       "  background-color: var(--sklearn-color-fitted-level-2);\n",
       "}\n",
       "\n",
       "/* Estimator-specific style */\n",
       "\n",
       "/* Colorize estimator box */\n",
       "#sk-container-id-1 div.sk-estimator input.sk-toggleable__control:checked~label.sk-toggleable__label {\n",
       "  /* unfitted */\n",
       "  background-color: var(--sklearn-color-unfitted-level-2);\n",
       "}\n",
       "\n",
       "#sk-container-id-1 div.sk-estimator.fitted input.sk-toggleable__control:checked~label.sk-toggleable__label {\n",
       "  /* fitted */\n",
       "  background-color: var(--sklearn-color-fitted-level-2);\n",
       "}\n",
       "\n",
       "#sk-container-id-1 div.sk-label label.sk-toggleable__label,\n",
       "#sk-container-id-1 div.sk-label label {\n",
       "  /* The background is the default theme color */\n",
       "  color: var(--sklearn-color-text-on-default-background);\n",
       "}\n",
       "\n",
       "/* On hover, darken the color of the background */\n",
       "#sk-container-id-1 div.sk-label:hover label.sk-toggleable__label {\n",
       "  color: var(--sklearn-color-text);\n",
       "  background-color: var(--sklearn-color-unfitted-level-2);\n",
       "}\n",
       "\n",
       "/* Label box, darken color on hover, fitted */\n",
       "#sk-container-id-1 div.sk-label.fitted:hover label.sk-toggleable__label.fitted {\n",
       "  color: var(--sklearn-color-text);\n",
       "  background-color: var(--sklearn-color-fitted-level-2);\n",
       "}\n",
       "\n",
       "/* Estimator label */\n",
       "\n",
       "#sk-container-id-1 div.sk-label label {\n",
       "  font-family: monospace;\n",
       "  font-weight: bold;\n",
       "  display: inline-block;\n",
       "  line-height: 1.2em;\n",
       "}\n",
       "\n",
       "#sk-container-id-1 div.sk-label-container {\n",
       "  text-align: center;\n",
       "}\n",
       "\n",
       "/* Estimator-specific */\n",
       "#sk-container-id-1 div.sk-estimator {\n",
       "  font-family: monospace;\n",
       "  border: 1px dotted var(--sklearn-color-border-box);\n",
       "  border-radius: 0.25em;\n",
       "  box-sizing: border-box;\n",
       "  margin-bottom: 0.5em;\n",
       "  /* unfitted */\n",
       "  background-color: var(--sklearn-color-unfitted-level-0);\n",
       "}\n",
       "\n",
       "#sk-container-id-1 div.sk-estimator.fitted {\n",
       "  /* fitted */\n",
       "  background-color: var(--sklearn-color-fitted-level-0);\n",
       "}\n",
       "\n",
       "/* on hover */\n",
       "#sk-container-id-1 div.sk-estimator:hover {\n",
       "  /* unfitted */\n",
       "  background-color: var(--sklearn-color-unfitted-level-2);\n",
       "}\n",
       "\n",
       "#sk-container-id-1 div.sk-estimator.fitted:hover {\n",
       "  /* fitted */\n",
       "  background-color: var(--sklearn-color-fitted-level-2);\n",
       "}\n",
       "\n",
       "/* Specification for estimator info (e.g. \"i\" and \"?\") */\n",
       "\n",
       "/* Common style for \"i\" and \"?\" */\n",
       "\n",
       ".sk-estimator-doc-link,\n",
       "a:link.sk-estimator-doc-link,\n",
       "a:visited.sk-estimator-doc-link {\n",
       "  float: right;\n",
       "  font-size: smaller;\n",
       "  line-height: 1em;\n",
       "  font-family: monospace;\n",
       "  background-color: var(--sklearn-color-background);\n",
       "  border-radius: 1em;\n",
       "  height: 1em;\n",
       "  width: 1em;\n",
       "  text-decoration: none !important;\n",
       "  margin-left: 0.5em;\n",
       "  text-align: center;\n",
       "  /* unfitted */\n",
       "  border: var(--sklearn-color-unfitted-level-1) 1pt solid;\n",
       "  color: var(--sklearn-color-unfitted-level-1);\n",
       "}\n",
       "\n",
       ".sk-estimator-doc-link.fitted,\n",
       "a:link.sk-estimator-doc-link.fitted,\n",
       "a:visited.sk-estimator-doc-link.fitted {\n",
       "  /* fitted */\n",
       "  border: var(--sklearn-color-fitted-level-1) 1pt solid;\n",
       "  color: var(--sklearn-color-fitted-level-1);\n",
       "}\n",
       "\n",
       "/* On hover */\n",
       "div.sk-estimator:hover .sk-estimator-doc-link:hover,\n",
       ".sk-estimator-doc-link:hover,\n",
       "div.sk-label-container:hover .sk-estimator-doc-link:hover,\n",
       ".sk-estimator-doc-link:hover {\n",
       "  /* unfitted */\n",
       "  background-color: var(--sklearn-color-unfitted-level-3);\n",
       "  color: var(--sklearn-color-background);\n",
       "  text-decoration: none;\n",
       "}\n",
       "\n",
       "div.sk-estimator.fitted:hover .sk-estimator-doc-link.fitted:hover,\n",
       ".sk-estimator-doc-link.fitted:hover,\n",
       "div.sk-label-container:hover .sk-estimator-doc-link.fitted:hover,\n",
       ".sk-estimator-doc-link.fitted:hover {\n",
       "  /* fitted */\n",
       "  background-color: var(--sklearn-color-fitted-level-3);\n",
       "  color: var(--sklearn-color-background);\n",
       "  text-decoration: none;\n",
       "}\n",
       "\n",
       "/* Span, style for the box shown on hovering the info icon */\n",
       ".sk-estimator-doc-link span {\n",
       "  display: none;\n",
       "  z-index: 9999;\n",
       "  position: relative;\n",
       "  font-weight: normal;\n",
       "  right: .2ex;\n",
       "  padding: .5ex;\n",
       "  margin: .5ex;\n",
       "  width: min-content;\n",
       "  min-width: 20ex;\n",
       "  max-width: 50ex;\n",
       "  color: var(--sklearn-color-text);\n",
       "  box-shadow: 2pt 2pt 4pt #999;\n",
       "  /* unfitted */\n",
       "  background: var(--sklearn-color-unfitted-level-0);\n",
       "  border: .5pt solid var(--sklearn-color-unfitted-level-3);\n",
       "}\n",
       "\n",
       ".sk-estimator-doc-link.fitted span {\n",
       "  /* fitted */\n",
       "  background: var(--sklearn-color-fitted-level-0);\n",
       "  border: var(--sklearn-color-fitted-level-3);\n",
       "}\n",
       "\n",
       ".sk-estimator-doc-link:hover span {\n",
       "  display: block;\n",
       "}\n",
       "\n",
       "/* \"?\"-specific style due to the `<a>` HTML tag */\n",
       "\n",
       "#sk-container-id-1 a.estimator_doc_link {\n",
       "  float: right;\n",
       "  font-size: 1rem;\n",
       "  line-height: 1em;\n",
       "  font-family: monospace;\n",
       "  background-color: var(--sklearn-color-background);\n",
       "  border-radius: 1rem;\n",
       "  height: 1rem;\n",
       "  width: 1rem;\n",
       "  text-decoration: none;\n",
       "  /* unfitted */\n",
       "  color: var(--sklearn-color-unfitted-level-1);\n",
       "  border: var(--sklearn-color-unfitted-level-1) 1pt solid;\n",
       "}\n",
       "\n",
       "#sk-container-id-1 a.estimator_doc_link.fitted {\n",
       "  /* fitted */\n",
       "  border: var(--sklearn-color-fitted-level-1) 1pt solid;\n",
       "  color: var(--sklearn-color-fitted-level-1);\n",
       "}\n",
       "\n",
       "/* On hover */\n",
       "#sk-container-id-1 a.estimator_doc_link:hover {\n",
       "  /* unfitted */\n",
       "  background-color: var(--sklearn-color-unfitted-level-3);\n",
       "  color: var(--sklearn-color-background);\n",
       "  text-decoration: none;\n",
       "}\n",
       "\n",
       "#sk-container-id-1 a.estimator_doc_link.fitted:hover {\n",
       "  /* fitted */\n",
       "  background-color: var(--sklearn-color-fitted-level-3);\n",
       "}\n",
       "\n",
       ".estimator-table summary {\n",
       "    padding: .5rem;\n",
       "    font-family: monospace;\n",
       "    cursor: pointer;\n",
       "}\n",
       "\n",
       ".estimator-table details[open] {\n",
       "    padding-left: 0.1rem;\n",
       "    padding-right: 0.1rem;\n",
       "    padding-bottom: 0.3rem;\n",
       "}\n",
       "\n",
       ".estimator-table .parameters-table {\n",
       "    margin-left: auto !important;\n",
       "    margin-right: auto !important;\n",
       "}\n",
       "\n",
       ".estimator-table .parameters-table tr:nth-child(odd) {\n",
       "    background-color: #fff;\n",
       "}\n",
       "\n",
       ".estimator-table .parameters-table tr:nth-child(even) {\n",
       "    background-color: #f6f6f6;\n",
       "}\n",
       "\n",
       ".estimator-table .parameters-table tr:hover {\n",
       "    background-color: #e0e0e0;\n",
       "}\n",
       "\n",
       ".estimator-table table td {\n",
       "    border: 1px solid rgba(106, 105, 104, 0.232);\n",
       "}\n",
       "\n",
       ".user-set td {\n",
       "    color:rgb(255, 94, 0);\n",
       "    text-align: left;\n",
       "}\n",
       "\n",
       ".user-set td.value pre {\n",
       "    color:rgb(255, 94, 0) !important;\n",
       "    background-color: transparent !important;\n",
       "}\n",
       "\n",
       ".default td {\n",
       "    color: black;\n",
       "    text-align: left;\n",
       "}\n",
       "\n",
       ".user-set td i,\n",
       ".default td i {\n",
       "    color: black;\n",
       "}\n",
       "\n",
       ".copy-paste-icon {\n",
       "    background-image: url(data:image/svg+xml;base64,PHN2ZyB4bWxucz0iaHR0cDovL3d3dy53My5vcmcvMjAwMC9zdmciIHZpZXdCb3g9IjAgMCA0NDggNTEyIj48IS0tIUZvbnQgQXdlc29tZSBGcmVlIDYuNy4yIGJ5IEBmb250YXdlc29tZSAtIGh0dHBzOi8vZm9udGF3ZXNvbWUuY29tIExpY2Vuc2UgLSBodHRwczovL2ZvbnRhd2Vzb21lLmNvbS9saWNlbnNlL2ZyZWUgQ29weXJpZ2h0IDIwMjUgRm9udGljb25zLCBJbmMuLS0+PHBhdGggZD0iTTIwOCAwTDMzMi4xIDBjMTIuNyAwIDI0LjkgNS4xIDMzLjkgMTQuMWw2Ny45IDY3LjljOSA5IDE0LjEgMjEuMiAxNC4xIDMzLjlMNDQ4IDMzNmMwIDI2LjUtMjEuNSA0OC00OCA0OGwtMTkyIDBjLTI2LjUgMC00OC0yMS41LTQ4LTQ4bDAtMjg4YzAtMjYuNSAyMS41LTQ4IDQ4LTQ4ek00OCAxMjhsODAgMCAwIDY0LTY0IDAgMCAyNTYgMTkyIDAgMC0zMiA2NCAwIDAgNDhjMCAyNi41LTIxLjUgNDgtNDggNDhMNDggNTEyYy0yNi41IDAtNDgtMjEuNS00OC00OEwwIDE3NmMwLTI2LjUgMjEuNS00OCA0OC00OHoiLz48L3N2Zz4=);\n",
       "    background-repeat: no-repeat;\n",
       "    background-size: 14px 14px;\n",
       "    background-position: 0;\n",
       "    display: inline-block;\n",
       "    width: 14px;\n",
       "    height: 14px;\n",
       "    cursor: pointer;\n",
       "}\n",
       "</style><body><div id=\"sk-container-id-1\" class=\"sk-top-container\"><div class=\"sk-text-repr-fallback\"><pre>GradientBoostingRegressor(random_state=42)</pre><b>In a Jupyter environment, please rerun this cell to show the HTML representation or trust the notebook. <br />On GitHub, the HTML representation is unable to render, please try loading this page with nbviewer.org.</b></div><div class=\"sk-container\" hidden><div class=\"sk-item\"><div class=\"sk-estimator fitted sk-toggleable\"><input class=\"sk-toggleable__control sk-hidden--visually\" id=\"sk-estimator-id-1\" type=\"checkbox\" checked><label for=\"sk-estimator-id-1\" class=\"sk-toggleable__label fitted sk-toggleable__label-arrow\"><div><div>GradientBoostingRegressor</div></div><div><a class=\"sk-estimator-doc-link fitted\" rel=\"noreferrer\" target=\"_blank\" href=\"https://scikit-learn.org/1.7/modules/generated/sklearn.ensemble.GradientBoostingRegressor.html\">?<span>Documentation for GradientBoostingRegressor</span></a><span class=\"sk-estimator-doc-link fitted\">i<span>Fitted</span></span></div></label><div class=\"sk-toggleable__content fitted\" data-param-prefix=\"\">\n",
       "        <div class=\"estimator-table\">\n",
       "            <details>\n",
       "                <summary>Parameters</summary>\n",
       "                <table class=\"parameters-table\">\n",
       "                  <tbody>\n",
       "                    \n",
       "        <tr class=\"default\">\n",
       "            <td><i class=\"copy-paste-icon\"\n",
       "                 onclick=\"copyToClipboard('loss',\n",
       "                          this.parentElement.nextElementSibling)\"\n",
       "            ></i></td>\n",
       "            <td class=\"param\">loss&nbsp;</td>\n",
       "            <td class=\"value\">&#x27;squared_error&#x27;</td>\n",
       "        </tr>\n",
       "    \n",
       "\n",
       "        <tr class=\"default\">\n",
       "            <td><i class=\"copy-paste-icon\"\n",
       "                 onclick=\"copyToClipboard('learning_rate',\n",
       "                          this.parentElement.nextElementSibling)\"\n",
       "            ></i></td>\n",
       "            <td class=\"param\">learning_rate&nbsp;</td>\n",
       "            <td class=\"value\">0.1</td>\n",
       "        </tr>\n",
       "    \n",
       "\n",
       "        <tr class=\"default\">\n",
       "            <td><i class=\"copy-paste-icon\"\n",
       "                 onclick=\"copyToClipboard('n_estimators',\n",
       "                          this.parentElement.nextElementSibling)\"\n",
       "            ></i></td>\n",
       "            <td class=\"param\">n_estimators&nbsp;</td>\n",
       "            <td class=\"value\">100</td>\n",
       "        </tr>\n",
       "    \n",
       "\n",
       "        <tr class=\"default\">\n",
       "            <td><i class=\"copy-paste-icon\"\n",
       "                 onclick=\"copyToClipboard('subsample',\n",
       "                          this.parentElement.nextElementSibling)\"\n",
       "            ></i></td>\n",
       "            <td class=\"param\">subsample&nbsp;</td>\n",
       "            <td class=\"value\">1.0</td>\n",
       "        </tr>\n",
       "    \n",
       "\n",
       "        <tr class=\"default\">\n",
       "            <td><i class=\"copy-paste-icon\"\n",
       "                 onclick=\"copyToClipboard('criterion',\n",
       "                          this.parentElement.nextElementSibling)\"\n",
       "            ></i></td>\n",
       "            <td class=\"param\">criterion&nbsp;</td>\n",
       "            <td class=\"value\">&#x27;friedman_mse&#x27;</td>\n",
       "        </tr>\n",
       "    \n",
       "\n",
       "        <tr class=\"default\">\n",
       "            <td><i class=\"copy-paste-icon\"\n",
       "                 onclick=\"copyToClipboard('min_samples_split',\n",
       "                          this.parentElement.nextElementSibling)\"\n",
       "            ></i></td>\n",
       "            <td class=\"param\">min_samples_split&nbsp;</td>\n",
       "            <td class=\"value\">2</td>\n",
       "        </tr>\n",
       "    \n",
       "\n",
       "        <tr class=\"default\">\n",
       "            <td><i class=\"copy-paste-icon\"\n",
       "                 onclick=\"copyToClipboard('min_samples_leaf',\n",
       "                          this.parentElement.nextElementSibling)\"\n",
       "            ></i></td>\n",
       "            <td class=\"param\">min_samples_leaf&nbsp;</td>\n",
       "            <td class=\"value\">1</td>\n",
       "        </tr>\n",
       "    \n",
       "\n",
       "        <tr class=\"default\">\n",
       "            <td><i class=\"copy-paste-icon\"\n",
       "                 onclick=\"copyToClipboard('min_weight_fraction_leaf',\n",
       "                          this.parentElement.nextElementSibling)\"\n",
       "            ></i></td>\n",
       "            <td class=\"param\">min_weight_fraction_leaf&nbsp;</td>\n",
       "            <td class=\"value\">0.0</td>\n",
       "        </tr>\n",
       "    \n",
       "\n",
       "        <tr class=\"default\">\n",
       "            <td><i class=\"copy-paste-icon\"\n",
       "                 onclick=\"copyToClipboard('max_depth',\n",
       "                          this.parentElement.nextElementSibling)\"\n",
       "            ></i></td>\n",
       "            <td class=\"param\">max_depth&nbsp;</td>\n",
       "            <td class=\"value\">3</td>\n",
       "        </tr>\n",
       "    \n",
       "\n",
       "        <tr class=\"default\">\n",
       "            <td><i class=\"copy-paste-icon\"\n",
       "                 onclick=\"copyToClipboard('min_impurity_decrease',\n",
       "                          this.parentElement.nextElementSibling)\"\n",
       "            ></i></td>\n",
       "            <td class=\"param\">min_impurity_decrease&nbsp;</td>\n",
       "            <td class=\"value\">0.0</td>\n",
       "        </tr>\n",
       "    \n",
       "\n",
       "        <tr class=\"default\">\n",
       "            <td><i class=\"copy-paste-icon\"\n",
       "                 onclick=\"copyToClipboard('init',\n",
       "                          this.parentElement.nextElementSibling)\"\n",
       "            ></i></td>\n",
       "            <td class=\"param\">init&nbsp;</td>\n",
       "            <td class=\"value\">None</td>\n",
       "        </tr>\n",
       "    \n",
       "\n",
       "        <tr class=\"user-set\">\n",
       "            <td><i class=\"copy-paste-icon\"\n",
       "                 onclick=\"copyToClipboard('random_state',\n",
       "                          this.parentElement.nextElementSibling)\"\n",
       "            ></i></td>\n",
       "            <td class=\"param\">random_state&nbsp;</td>\n",
       "            <td class=\"value\">42</td>\n",
       "        </tr>\n",
       "    \n",
       "\n",
       "        <tr class=\"default\">\n",
       "            <td><i class=\"copy-paste-icon\"\n",
       "                 onclick=\"copyToClipboard('max_features',\n",
       "                          this.parentElement.nextElementSibling)\"\n",
       "            ></i></td>\n",
       "            <td class=\"param\">max_features&nbsp;</td>\n",
       "            <td class=\"value\">None</td>\n",
       "        </tr>\n",
       "    \n",
       "\n",
       "        <tr class=\"default\">\n",
       "            <td><i class=\"copy-paste-icon\"\n",
       "                 onclick=\"copyToClipboard('alpha',\n",
       "                          this.parentElement.nextElementSibling)\"\n",
       "            ></i></td>\n",
       "            <td class=\"param\">alpha&nbsp;</td>\n",
       "            <td class=\"value\">0.9</td>\n",
       "        </tr>\n",
       "    \n",
       "\n",
       "        <tr class=\"default\">\n",
       "            <td><i class=\"copy-paste-icon\"\n",
       "                 onclick=\"copyToClipboard('verbose',\n",
       "                          this.parentElement.nextElementSibling)\"\n",
       "            ></i></td>\n",
       "            <td class=\"param\">verbose&nbsp;</td>\n",
       "            <td class=\"value\">0</td>\n",
       "        </tr>\n",
       "    \n",
       "\n",
       "        <tr class=\"default\">\n",
       "            <td><i class=\"copy-paste-icon\"\n",
       "                 onclick=\"copyToClipboard('max_leaf_nodes',\n",
       "                          this.parentElement.nextElementSibling)\"\n",
       "            ></i></td>\n",
       "            <td class=\"param\">max_leaf_nodes&nbsp;</td>\n",
       "            <td class=\"value\">None</td>\n",
       "        </tr>\n",
       "    \n",
       "\n",
       "        <tr class=\"default\">\n",
       "            <td><i class=\"copy-paste-icon\"\n",
       "                 onclick=\"copyToClipboard('warm_start',\n",
       "                          this.parentElement.nextElementSibling)\"\n",
       "            ></i></td>\n",
       "            <td class=\"param\">warm_start&nbsp;</td>\n",
       "            <td class=\"value\">False</td>\n",
       "        </tr>\n",
       "    \n",
       "\n",
       "        <tr class=\"default\">\n",
       "            <td><i class=\"copy-paste-icon\"\n",
       "                 onclick=\"copyToClipboard('validation_fraction',\n",
       "                          this.parentElement.nextElementSibling)\"\n",
       "            ></i></td>\n",
       "            <td class=\"param\">validation_fraction&nbsp;</td>\n",
       "            <td class=\"value\">0.1</td>\n",
       "        </tr>\n",
       "    \n",
       "\n",
       "        <tr class=\"default\">\n",
       "            <td><i class=\"copy-paste-icon\"\n",
       "                 onclick=\"copyToClipboard('n_iter_no_change',\n",
       "                          this.parentElement.nextElementSibling)\"\n",
       "            ></i></td>\n",
       "            <td class=\"param\">n_iter_no_change&nbsp;</td>\n",
       "            <td class=\"value\">None</td>\n",
       "        </tr>\n",
       "    \n",
       "\n",
       "        <tr class=\"default\">\n",
       "            <td><i class=\"copy-paste-icon\"\n",
       "                 onclick=\"copyToClipboard('tol',\n",
       "                          this.parentElement.nextElementSibling)\"\n",
       "            ></i></td>\n",
       "            <td class=\"param\">tol&nbsp;</td>\n",
       "            <td class=\"value\">0.0001</td>\n",
       "        </tr>\n",
       "    \n",
       "\n",
       "        <tr class=\"default\">\n",
       "            <td><i class=\"copy-paste-icon\"\n",
       "                 onclick=\"copyToClipboard('ccp_alpha',\n",
       "                          this.parentElement.nextElementSibling)\"\n",
       "            ></i></td>\n",
       "            <td class=\"param\">ccp_alpha&nbsp;</td>\n",
       "            <td class=\"value\">0.0</td>\n",
       "        </tr>\n",
       "    \n",
       "                  </tbody>\n",
       "                </table>\n",
       "            </details>\n",
       "        </div>\n",
       "    </div></div></div></div></div><script>function copyToClipboard(text, element) {\n",
       "    // Get the parameter prefix from the closest toggleable content\n",
       "    const toggleableContent = element.closest('.sk-toggleable__content');\n",
       "    const paramPrefix = toggleableContent ? toggleableContent.dataset.paramPrefix : '';\n",
       "    const fullParamName = paramPrefix ? `${paramPrefix}${text}` : text;\n",
       "\n",
       "    const originalStyle = element.style;\n",
       "    const computedStyle = window.getComputedStyle(element);\n",
       "    const originalWidth = computedStyle.width;\n",
       "    const originalHTML = element.innerHTML.replace('Copied!', '');\n",
       "\n",
       "    navigator.clipboard.writeText(fullParamName)\n",
       "        .then(() => {\n",
       "            element.style.width = originalWidth;\n",
       "            element.style.color = 'green';\n",
       "            element.innerHTML = \"Copied!\";\n",
       "\n",
       "            setTimeout(() => {\n",
       "                element.innerHTML = originalHTML;\n",
       "                element.style = originalStyle;\n",
       "            }, 2000);\n",
       "        })\n",
       "        .catch(err => {\n",
       "            console.error('Failed to copy:', err);\n",
       "            element.style.color = 'red';\n",
       "            element.innerHTML = \"Failed!\";\n",
       "            setTimeout(() => {\n",
       "                element.innerHTML = originalHTML;\n",
       "                element.style = originalStyle;\n",
       "            }, 2000);\n",
       "        });\n",
       "    return false;\n",
       "}\n",
       "\n",
       "document.querySelectorAll('.fa-regular.fa-copy').forEach(function(element) {\n",
       "    const toggleableContent = element.closest('.sk-toggleable__content');\n",
       "    const paramPrefix = toggleableContent ? toggleableContent.dataset.paramPrefix : '';\n",
       "    const paramName = element.parentElement.nextElementSibling.textContent.trim();\n",
       "    const fullParamName = paramPrefix ? `${paramPrefix}${paramName}` : paramName;\n",
       "\n",
       "    element.setAttribute('title', fullParamName);\n",
       "});\n",
       "</script></body>"
      ],
      "text/plain": [
       "GradientBoostingRegressor(random_state=42)"
      ]
     },
     "execution_count": 480,
     "metadata": {},
     "output_type": "execute_result"
    }
   ],
   "source": [
    "import pandas as pd\n",
    "from sklearn.model_selection import train_test_split\n",
    "from sklearn.linear_model import LinearRegression\n",
    "from sklearn.tree import DecisionTreeRegressor\n",
    "from sklearn.ensemble import RandomForestRegressor, GradientBoostingRegressor\n",
    "\n",
    "\n",
    "updated_df['Time'] = pd.to_datetime(updated_df['Time'], errors='coerce')\n",
    "updated_df['Time_numeric'] = updated_df['Time'].map(pd.Timestamp.timestamp)\n",
    "\n",
    "\n",
    "updated_df = updated_df.drop(columns=['Time'])\n",
    "\n",
    "\n",
    "X = updated_df.drop(columns=['Power'])\n",
    "y = updated_df['Power']\n",
    "\n",
    "\n",
    "X_train, X_test, y_train, y_test = train_test_split(X, y, test_size=0.2, random_state=42)\n",
    "\n",
    "\n",
    "lr = LinearRegression()\n",
    "dt = DecisionTreeRegressor(random_state=42)\n",
    "rf = RandomForestRegressor(random_state=42)\n",
    "gb = GradientBoostingRegressor(random_state=42)\n",
    "\n",
    "\n",
    "lr.fit(X_train, y_train)\n",
    "dt.fit(X_train, y_train)\n",
    "rf.fit(X_train, y_train)\n",
    "gb.fit(X_train, y_train)\n",
    "\n",
    "\n"
   ]
  },
  {
   "cell_type": "code",
   "execution_count": 483,
   "id": "f3913ec6",
   "metadata": {},
   "outputs": [
    {
     "name": "stdout",
     "output_type": "stream",
     "text": [
      "Linear Regression: MSE = 0.53, R² = 0.47\n",
      "  Approx. Accuracy = 46.92%\n",
      "Decision Tree: MSE = 0.60, R² = 0.41\n",
      "  Approx. Accuracy = 40.67%\n",
      "Random Forest: MSE = 0.28, R² = 0.72\n",
      "  Approx. Accuracy = 72.00%\n",
      "Gradient Boosting: MSE = 0.46, R² = 0.55\n",
      "  Approx. Accuracy = 54.73%\n"
     ]
    }
   ],
   "source": [
    "from sklearn.metrics import mean_squared_error, r2_score\n",
    "\n",
    "models = {'Linear Regression': lr, \n",
    "          'Decision Tree': dt, \n",
    "          'Random Forest': rf, \n",
    "          'Gradient Boosting': gb}\n",
    "\n",
    "for name, model in models.items():\n",
    "    y_pred = model.predict(X_test)\n",
    "    mse = mean_squared_error(y_test, y_pred)\n",
    "    r2 = r2_score(y_test, y_pred)\n",
    "    print(f\"{name}: MSE = {mse:.2f}, R² = {r2:.2f}\")\n",
    "    print(f\"  Approx. Accuracy = {r2 * 100:.2f}%\")"
   ]
  },
  {
   "cell_type": "markdown",
   "id": "7db52fc9",
   "metadata": {},
   "source": [
    "Insights by Model\n",
    "Linear Regression\n",
    "\n",
    "Simple model assuming a straight-line relationship.\n",
    "\n",
    "R² = 0.47\n",
    "\n",
    "This suggests that Power doesn’t depend linearly on all features — nonlinear relationships likely exist.\n",
    "\n",
    "Decision Tree\n",
    "\n",
    "Nonlinear model, but a single tree tends to overfit or underfit if not tuned well.\n",
    "\n",
    "Slightly worse than Linear Regression here (R² = 0.41), possibly because it made too few or too many splits.\n",
    "\n",
    "Random Forest\n",
    "\n",
    "The best-performing model here (R² = 0.72).\n",
    "\n",
    "Combines many trees (ensemble method) to reduce overfitting.\n",
    "\n",
    "Captures complex patterns and generalizes well → ideal for this dataset.\n",
    "\n",
    "Gradient Boosting\n",
    "\n",
    "Second best (R² = 0.55).\n",
    "\n",
    "Learns sequentially to correct previous errors, but can be sensitive to hyperparameters like learning rate or number of estimators.\n",
    "\n",
    "With tuning, it could potentially surpass Random Forest.\n"
   ]
  },
  {
   "cell_type": "markdown",
   "id": "af86c658",
   "metadata": {},
   "source": [
    "# Overall Insights\n",
    "\n",
    "Power output depends on nonlinear interactions between features — Random Forest captured this best.\n",
    "\n",
    "Simpler models (Linear Regression, Decision Tree) underperformed, confirming the need for ensemble methods.\n",
    "\n",
    "Random Forest’s MSE = 0.28 shows its predictions are much closer to actual values than the others.\n",
    "\n",
    "Gradient Boosting may improve with tuning."
   ]
  }
 ],
 "metadata": {
  "kernelspec": {
   "display_name": "Python 3",
   "language": "python",
   "name": "python3"
  },
  "language_info": {
   "codemirror_mode": {
    "name": "ipython",
    "version": 3
   },
   "file_extension": ".py",
   "mimetype": "text/x-python",
   "name": "python",
   "nbconvert_exporter": "python",
   "pygments_lexer": "ipython3",
   "version": "3.13.7"
  }
 },
 "nbformat": 4,
 "nbformat_minor": 5
}
